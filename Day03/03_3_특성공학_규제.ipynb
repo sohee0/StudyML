{
 "cells": [
  {
   "cell_type": "code",
   "execution_count": 1,
   "metadata": {},
   "outputs": [],
   "source": [
    "# 기본 패키지 추가\n",
    "import numpy as np\n",
    "import matplotlib.pyplot as plt\n",
    "import seaborn as sns\n",
    "import pandas as pd \n",
    "import scipy as sp \n",
    "import matplotlib as mpl\n",
    "\n",
    "# 머신러닝 패키지 추가\n",
    "import statsmodels.api as sm \n",
    "import sklearn as sk\n",
    "\n",
    "\n",
    "# matplolib, 폰트설정\n",
    "from matplotlib import rc\n",
    "import matplotlib.font_manager as fm \n",
    "\n",
    "plt.rcParams['font.family']=['NanumSquareRoundR.ttf']\n",
    "plt.rcParams['font.size']=14\n",
    "# plt.rc('font', family ='NanumSquareRoundR')\n",
    "sns.set(font = 'Malgun Gothic' ,rc={'axes.unicode_minus':False}, style='darkgrid')"
   ]
  },
  {
   "cell_type": "markdown",
   "metadata": {},
   "source": [
    "### 특성공학 / 규제\n",
    "#### 데이터 준비"
   ]
  },
  {
   "cell_type": "code",
   "execution_count": 2,
   "metadata": {},
   "outputs": [
    {
     "data": {
      "text/html": [
       "<div>\n",
       "<style scoped>\n",
       "    .dataframe tbody tr th:only-of-type {\n",
       "        vertical-align: middle;\n",
       "    }\n",
       "\n",
       "    .dataframe tbody tr th {\n",
       "        vertical-align: top;\n",
       "    }\n",
       "\n",
       "    .dataframe thead th {\n",
       "        text-align: right;\n",
       "    }\n",
       "</style>\n",
       "<table border=\"1\" class=\"dataframe\">\n",
       "  <thead>\n",
       "    <tr style=\"text-align: right;\">\n",
       "      <th></th>\n",
       "      <th>length</th>\n",
       "      <th>height</th>\n",
       "      <th>width</th>\n",
       "    </tr>\n",
       "  </thead>\n",
       "  <tbody>\n",
       "    <tr>\n",
       "      <th>51</th>\n",
       "      <td>42.0</td>\n",
       "      <td>12.80</td>\n",
       "      <td>6.87</td>\n",
       "    </tr>\n",
       "    <tr>\n",
       "      <th>52</th>\n",
       "      <td>43.0</td>\n",
       "      <td>11.93</td>\n",
       "      <td>7.28</td>\n",
       "    </tr>\n",
       "    <tr>\n",
       "      <th>53</th>\n",
       "      <td>43.0</td>\n",
       "      <td>12.51</td>\n",
       "      <td>7.42</td>\n",
       "    </tr>\n",
       "    <tr>\n",
       "      <th>54</th>\n",
       "      <td>43.5</td>\n",
       "      <td>12.60</td>\n",
       "      <td>8.14</td>\n",
       "    </tr>\n",
       "    <tr>\n",
       "      <th>55</th>\n",
       "      <td>44.0</td>\n",
       "      <td>12.49</td>\n",
       "      <td>7.60</td>\n",
       "    </tr>\n",
       "  </tbody>\n",
       "</table>\n",
       "</div>"
      ],
      "text/plain": [
       "    length   height   width\n",
       "51    42.0    12.80    6.87\n",
       "52    43.0    11.93    7.28\n",
       "53    43.0    12.51    7.42\n",
       "54    43.5    12.60    8.14\n",
       "55    44.0    12.49    7.60"
      ]
     },
     "execution_count": 2,
     "metadata": {},
     "output_type": "execute_result"
    }
   ],
   "source": [
    "df = pd.read_csv('https://bit.ly/perch_csv')\n",
    "df.tail()"
   ]
  },
  {
   "cell_type": "code",
   "execution_count": 6,
   "metadata": {},
   "outputs": [
    {
     "data": {
      "text/plain": [
       "56"
      ]
     },
     "execution_count": 6,
     "metadata": {},
     "output_type": "execute_result"
    }
   ],
   "source": [
    "perch_full = df.to_numpy()\n",
    "len(perch_full)"
   ]
  },
  {
   "cell_type": "markdown",
   "metadata": {},
   "source": [
    "##### 농어데이터\n",
    "농어의 길이,높이,두께 --> 농어의 무게 예측\n",
    "\n",
    "- 무게 데이터"
   ]
  },
  {
   "cell_type": "code",
   "execution_count": 4,
   "metadata": {},
   "outputs": [],
   "source": [
    "perch_weight = np.array([5.9, 32.0, 40.0, 51.5, 70.0, 100.0, 78.0, 80.0, 85.0, 85.0, 110.0,\n",
    "       115.0, 125.0, 130.0, 120.0, 120.0, 130.0, 135.0, 110.0, 130.0,\n",
    "       150.0, 145.0, 150.0, 170.0, 225.0, 145.0, 188.0, 180.0, 197.0,\n",
    "       218.0, 300.0, 260.0, 265.0, 250.0, 250.0, 300.0, 320.0, 514.0,\n",
    "       556.0, 840.0, 685.0, 700.0, 700.0, 690.0, 900.0, 650.0, 820.0,\n",
    "       850.0, 900.0, 1015.0, 820.0, 1100.0, 1000.0, 1100.0, 1000.0,\n",
    "       1000.0])"
   ]
  },
  {
   "cell_type": "code",
   "execution_count": 5,
   "metadata": {},
   "outputs": [
    {
     "data": {
      "text/plain": [
       "56"
      ]
     },
     "execution_count": 5,
     "metadata": {},
     "output_type": "execute_result"
    }
   ],
   "source": [
    "len(perch_weight)"
   ]
  },
  {
   "cell_type": "markdown",
   "metadata": {},
   "source": [
    "#### 훈련세트/데이터세트 분리"
   ]
  },
  {
   "cell_type": "code",
   "execution_count": 7,
   "metadata": {},
   "outputs": [],
   "source": [
    "from sklearn.model_selection import train_test_split"
   ]
  },
  {
   "cell_type": "code",
   "execution_count": 28,
   "metadata": {},
   "outputs": [],
   "source": [
    "train_input,test_input,train_target,test_target = train_test_split(perch_full,perch_weight,\n",
    "                                                                      # test_size=0.3,\n",
    "                                                                      random_state=42)"
   ]
  },
  {
   "cell_type": "code",
   "execution_count": 29,
   "metadata": {},
   "outputs": [
    {
     "name": "stdout",
     "output_type": "stream",
     "text": [
      "(42, 3)\n",
      "(14, 3)\n"
     ]
    }
   ],
   "source": [
    "print(train_input.shape)\n",
    "print(test_input.shape)"
   ]
  },
  {
   "cell_type": "code",
   "execution_count": 30,
   "metadata": {},
   "outputs": [
    {
     "name": "stdout",
     "output_type": "stream",
     "text": [
      "(14,)\n",
      "(42,)\n"
     ]
    }
   ],
   "source": [
    "print(test_target.shape)\n",
    "print(train_target.shape)"
   ]
  },
  {
   "cell_type": "markdown",
   "metadata": {},
   "source": [
    "#### sklearn 변환기 \n",
    "- 특성이 1개 이상일때 특성을 전부 합쳐 새로운 특성으로 만든다.(새 회귀방정식)"
   ]
  },
  {
   "cell_type": "code",
   "execution_count": 31,
   "metadata": {},
   "outputs": [],
   "source": [
    "from sklearn.preprocessing import PolynomialFeatures"
   ]
  },
  {
   "cell_type": "markdown",
   "metadata": {},
   "source": [
    "#### example"
   ]
  },
  {
   "cell_type": "code",
   "execution_count": 36,
   "metadata": {},
   "outputs": [
    {
     "data": {
      "text/plain": [
       "array([[2., 3., 4., 6., 9.]])"
      ]
     },
     "execution_count": 36,
     "metadata": {},
     "output_type": "execute_result"
    }
   ],
   "source": [
    "poly = PolynomialFeatures(include_bias=False)\n",
    "poly.fit([[2,3]])\n",
    "poly.transform([[2,3]])\n"
   ]
  },
  {
   "cell_type": "code",
   "execution_count": 37,
   "metadata": {},
   "outputs": [
    {
     "name": "stderr",
     "output_type": "stream",
     "text": [
      "c:\\Users\\admin\\AppData\\Local\\Programs\\Python\\Python310\\lib\\site-packages\\sklearn\\utils\\deprecation.py:87: FutureWarning: Function get_feature_names is deprecated; get_feature_names is deprecated in 1.0 and will be removed in 1.2. Please use get_feature_names_out instead.\n",
      "  warnings.warn(msg, category=FutureWarning)\n"
     ]
    },
    {
     "data": {
      "text/plain": [
       "['x0', 'x1', 'x0^2', 'x0 x1', 'x1^2']"
      ]
     },
     "execution_count": 37,
     "metadata": {},
     "output_type": "execute_result"
    }
   ],
   "source": [
    "poly.get_feature_names()"
   ]
  },
  {
   "cell_type": "markdown",
   "metadata": {},
   "source": [
    "##### 농어데이터 3개의 특징 transform -> 특징분리"
   ]
  },
  {
   "cell_type": "code",
   "execution_count": 38,
   "metadata": {},
   "outputs": [
    {
     "data": {
      "text/plain": [
       "(42, 9)"
      ]
     },
     "execution_count": 38,
     "metadata": {},
     "output_type": "execute_result"
    }
   ],
   "source": [
    "poly = PolynomialFeatures(include_bias=False)\n",
    "poly.fit(train_input) #입력된 값이 몇개의 특징을 가지는지 알려줌\n",
    "train_poly = poly.transform(train_input)\n",
    "train_poly.shape"
   ]
  },
  {
   "cell_type": "code",
   "execution_count": 39,
   "metadata": {},
   "outputs": [
    {
     "name": "stderr",
     "output_type": "stream",
     "text": [
      "c:\\Users\\admin\\AppData\\Local\\Programs\\Python\\Python310\\lib\\site-packages\\sklearn\\utils\\deprecation.py:87: FutureWarning: Function get_feature_names is deprecated; get_feature_names is deprecated in 1.0 and will be removed in 1.2. Please use get_feature_names_out instead.\n",
      "  warnings.warn(msg, category=FutureWarning)\n"
     ]
    },
    {
     "data": {
      "text/plain": [
       "['x0', 'x1', 'x2', 'x0^2', 'x0 x1', 'x0 x2', 'x1^2', 'x1 x2', 'x2^2']"
      ]
     },
     "execution_count": 39,
     "metadata": {},
     "output_type": "execute_result"
    }
   ],
   "source": [
    "poly.get_feature_names()"
   ]
  },
  {
   "cell_type": "code",
   "execution_count": 40,
   "metadata": {},
   "outputs": [
    {
     "data": {
      "text/plain": [
       "(14, 9)"
      ]
     },
     "execution_count": 40,
     "metadata": {},
     "output_type": "execute_result"
    }
   ],
   "source": [
    "test_poly = poly.transform(test_input)\n",
    "test_poly.shape"
   ]
  },
  {
   "cell_type": "markdown",
   "metadata": {},
   "source": [
    "#### 다중회귀모델 훈련"
   ]
  },
  {
   "cell_type": "code",
   "execution_count": 42,
   "metadata": {},
   "outputs": [
    {
     "data": {
      "text/plain": [
       "0.9903183436982124"
      ]
     },
     "execution_count": 42,
     "metadata": {},
     "output_type": "execute_result"
    }
   ],
   "source": [
    "from sklearn.linear_model import LinearRegression\n",
    "\n",
    "lr = LinearRegression()\n",
    "lr.fit(X=train_poly,y=train_target)\n",
    "lr.score(X=train_poly,y=train_target)"
   ]
  },
  {
   "cell_type": "code",
   "execution_count": 43,
   "metadata": {},
   "outputs": [
    {
     "data": {
      "text/plain": [
       "0.9714559911594145"
      ]
     },
     "execution_count": 43,
     "metadata": {},
     "output_type": "execute_result"
    }
   ],
   "source": [
    "lr.score(X=test_poly,y=test_target)"
   ]
  },
  {
   "cell_type": "markdown",
   "metadata": {},
   "source": [
    "#### 예측 위한 데이터 변환"
   ]
  },
  {
   "cell_type": "code",
   "execution_count": 45,
   "metadata": {},
   "outputs": [
    {
     "data": {
      "text/plain": [
       "(1, 9)"
      ]
     },
     "execution_count": 45,
     "metadata": {},
     "output_type": "execute_result"
    }
   ],
   "source": [
    "pred_x =[[50.0,13.5,9.2]]\n",
    "poly_p= PolynomialFeatures(include_bias=False)\n",
    "poly_p.fit(train_input) #입력된 값이 몇개의 특징을 가지는지 알려줌\n",
    "pred_poly = poly.transform(pred_x)\n",
    "pred_poly.shape"
   ]
  },
  {
   "cell_type": "code",
   "execution_count": 49,
   "metadata": {},
   "outputs": [
    {
     "data": {
      "text/plain": [
       "array([[  50.  ,   13.5 ,    9.2 , 2500.  ,  675.  ,  460.  ,  182.25,\n",
       "         124.2 ,   84.64]])"
      ]
     },
     "execution_count": 49,
     "metadata": {},
     "output_type": "execute_result"
    }
   ],
   "source": [
    "pred_poly"
   ]
  },
  {
   "cell_type": "code",
   "execution_count": 50,
   "metadata": {},
   "outputs": [
    {
     "data": {
      "text/plain": [
       "array([1634.45893639])"
      ]
     },
     "execution_count": 50,
     "metadata": {},
     "output_type": "execute_result"
    }
   ],
   "source": [
    "#9개 특성으로 예측해야해\n",
    "lr.predict(X=pred_poly)"
   ]
  },
  {
   "cell_type": "markdown",
   "metadata": {},
   "source": [
    "#### 추가"
   ]
  },
  {
   "cell_type": "code",
   "execution_count": 51,
   "metadata": {},
   "outputs": [
    {
     "data": {
      "text/plain": [
       "(42, 55)"
      ]
     },
     "execution_count": 51,
     "metadata": {},
     "output_type": "execute_result"
    }
   ],
   "source": [
    "poly = PolynomialFeatures(degree=5,include_bias=False)\n",
    "poly.fit(train_input)\n",
    "train_poly = poly.transform(train_input)\n",
    "test_poly = poly.transform(test_input)\n",
    "train_poly.shape"
   ]
  },
  {
   "cell_type": "code",
   "execution_count": 52,
   "metadata": {},
   "outputs": [
    {
     "name": "stderr",
     "output_type": "stream",
     "text": [
      "c:\\Users\\admin\\AppData\\Local\\Programs\\Python\\Python310\\lib\\site-packages\\sklearn\\utils\\deprecation.py:87: FutureWarning: Function get_feature_names is deprecated; get_feature_names is deprecated in 1.0 and will be removed in 1.2. Please use get_feature_names_out instead.\n",
      "  warnings.warn(msg, category=FutureWarning)\n"
     ]
    },
    {
     "data": {
      "text/plain": [
       "['x0',\n",
       " 'x1',\n",
       " 'x2',\n",
       " 'x0^2',\n",
       " 'x0 x1',\n",
       " 'x0 x2',\n",
       " 'x1^2',\n",
       " 'x1 x2',\n",
       " 'x2^2',\n",
       " 'x0^3',\n",
       " 'x0^2 x1',\n",
       " 'x0^2 x2',\n",
       " 'x0 x1^2',\n",
       " 'x0 x1 x2',\n",
       " 'x0 x2^2',\n",
       " 'x1^3',\n",
       " 'x1^2 x2',\n",
       " 'x1 x2^2',\n",
       " 'x2^3',\n",
       " 'x0^4',\n",
       " 'x0^3 x1',\n",
       " 'x0^3 x2',\n",
       " 'x0^2 x1^2',\n",
       " 'x0^2 x1 x2',\n",
       " 'x0^2 x2^2',\n",
       " 'x0 x1^3',\n",
       " 'x0 x1^2 x2',\n",
       " 'x0 x1 x2^2',\n",
       " 'x0 x2^3',\n",
       " 'x1^4',\n",
       " 'x1^3 x2',\n",
       " 'x1^2 x2^2',\n",
       " 'x1 x2^3',\n",
       " 'x2^4',\n",
       " 'x0^5',\n",
       " 'x0^4 x1',\n",
       " 'x0^4 x2',\n",
       " 'x0^3 x1^2',\n",
       " 'x0^3 x1 x2',\n",
       " 'x0^3 x2^2',\n",
       " 'x0^2 x1^3',\n",
       " 'x0^2 x1^2 x2',\n",
       " 'x0^2 x1 x2^2',\n",
       " 'x0^2 x2^3',\n",
       " 'x0 x1^4',\n",
       " 'x0 x1^3 x2',\n",
       " 'x0 x1^2 x2^2',\n",
       " 'x0 x1 x2^3',\n",
       " 'x0 x2^4',\n",
       " 'x1^5',\n",
       " 'x1^4 x2',\n",
       " 'x1^3 x2^2',\n",
       " 'x1^2 x2^3',\n",
       " 'x1 x2^4',\n",
       " 'x2^5']"
      ]
     },
     "execution_count": 52,
     "metadata": {},
     "output_type": "execute_result"
    }
   ],
   "source": [
    "poly.get_feature_names()"
   ]
  },
  {
   "cell_type": "code",
   "execution_count": 53,
   "metadata": {},
   "outputs": [
    {
     "data": {
      "text/plain": [
       "0.9999999999996176"
      ]
     },
     "execution_count": 53,
     "metadata": {},
     "output_type": "execute_result"
    }
   ],
   "source": [
    "lr.fit(train_poly,train_target)\n",
    "lr.score(train_poly,train_target)"
   ]
  },
  {
   "cell_type": "code",
   "execution_count": 55,
   "metadata": {},
   "outputs": [
    {
     "data": {
      "text/plain": [
       "-144.40585108215134"
      ]
     },
     "execution_count": 55,
     "metadata": {},
     "output_type": "execute_result"
    }
   ],
   "source": [
    "lr.score(X=test_poly,y=test_target)"
   ]
  },
  {
   "cell_type": "markdown",
   "metadata": {},
   "source": [
    "#### 표준화작업\n",
    "- 입력값 : 평균/표준편차 -> 일정한 단위가 되도록 작업"
   ]
  },
  {
   "cell_type": "code",
   "execution_count": 56,
   "metadata": {},
   "outputs": [
    {
     "data": {
      "text/html": [
       "<style>#sk-container-id-2 {color: black;background-color: white;}#sk-container-id-2 pre{padding: 0;}#sk-container-id-2 div.sk-toggleable {background-color: white;}#sk-container-id-2 label.sk-toggleable__label {cursor: pointer;display: block;width: 100%;margin-bottom: 0;padding: 0.3em;box-sizing: border-box;text-align: center;}#sk-container-id-2 label.sk-toggleable__label-arrow:before {content: \"▸\";float: left;margin-right: 0.25em;color: #696969;}#sk-container-id-2 label.sk-toggleable__label-arrow:hover:before {color: black;}#sk-container-id-2 div.sk-estimator:hover label.sk-toggleable__label-arrow:before {color: black;}#sk-container-id-2 div.sk-toggleable__content {max-height: 0;max-width: 0;overflow: hidden;text-align: left;background-color: #f0f8ff;}#sk-container-id-2 div.sk-toggleable__content pre {margin: 0.2em;color: black;border-radius: 0.25em;background-color: #f0f8ff;}#sk-container-id-2 input.sk-toggleable__control:checked~div.sk-toggleable__content {max-height: 200px;max-width: 100%;overflow: auto;}#sk-container-id-2 input.sk-toggleable__control:checked~label.sk-toggleable__label-arrow:before {content: \"▾\";}#sk-container-id-2 div.sk-estimator input.sk-toggleable__control:checked~label.sk-toggleable__label {background-color: #d4ebff;}#sk-container-id-2 div.sk-label input.sk-toggleable__control:checked~label.sk-toggleable__label {background-color: #d4ebff;}#sk-container-id-2 input.sk-hidden--visually {border: 0;clip: rect(1px 1px 1px 1px);clip: rect(1px, 1px, 1px, 1px);height: 1px;margin: -1px;overflow: hidden;padding: 0;position: absolute;width: 1px;}#sk-container-id-2 div.sk-estimator {font-family: monospace;background-color: #f0f8ff;border: 1px dotted black;border-radius: 0.25em;box-sizing: border-box;margin-bottom: 0.5em;}#sk-container-id-2 div.sk-estimator:hover {background-color: #d4ebff;}#sk-container-id-2 div.sk-parallel-item::after {content: \"\";width: 100%;border-bottom: 1px solid gray;flex-grow: 1;}#sk-container-id-2 div.sk-label:hover label.sk-toggleable__label {background-color: #d4ebff;}#sk-container-id-2 div.sk-serial::before {content: \"\";position: absolute;border-left: 1px solid gray;box-sizing: border-box;top: 0;bottom: 0;left: 50%;z-index: 0;}#sk-container-id-2 div.sk-serial {display: flex;flex-direction: column;align-items: center;background-color: white;padding-right: 0.2em;padding-left: 0.2em;position: relative;}#sk-container-id-2 div.sk-item {position: relative;z-index: 1;}#sk-container-id-2 div.sk-parallel {display: flex;align-items: stretch;justify-content: center;background-color: white;position: relative;}#sk-container-id-2 div.sk-item::before, #sk-container-id-2 div.sk-parallel-item::before {content: \"\";position: absolute;border-left: 1px solid gray;box-sizing: border-box;top: 0;bottom: 0;left: 50%;z-index: -1;}#sk-container-id-2 div.sk-parallel-item {display: flex;flex-direction: column;z-index: 1;position: relative;background-color: white;}#sk-container-id-2 div.sk-parallel-item:first-child::after {align-self: flex-end;width: 50%;}#sk-container-id-2 div.sk-parallel-item:last-child::after {align-self: flex-start;width: 50%;}#sk-container-id-2 div.sk-parallel-item:only-child::after {width: 0;}#sk-container-id-2 div.sk-dashed-wrapped {border: 1px dashed gray;margin: 0 0.4em 0.5em 0.4em;box-sizing: border-box;padding-bottom: 0.4em;background-color: white;}#sk-container-id-2 div.sk-label label {font-family: monospace;font-weight: bold;display: inline-block;line-height: 1.2em;}#sk-container-id-2 div.sk-label-container {text-align: center;}#sk-container-id-2 div.sk-container {/* jupyter's `normalize.less` sets `[hidden] { display: none; }` but bootstrap.min.css set `[hidden] { display: none !important; }` so we also need the `!important` here to be able to override the default hidden behavior on the sphinx rendered scikit-learn.org. See: https://github.com/scikit-learn/scikit-learn/issues/21755 */display: inline-block !important;position: relative;}#sk-container-id-2 div.sk-text-repr-fallback {display: none;}</style><div id=\"sk-container-id-2\" class=\"sk-top-container\"><div class=\"sk-text-repr-fallback\"><pre>StandardScaler()</pre><b>In a Jupyter environment, please rerun this cell to show the HTML representation or trust the notebook. <br />On GitHub, the HTML representation is unable to render, please try loading this page with nbviewer.org.</b></div><div class=\"sk-container\" hidden><div class=\"sk-item\"><div class=\"sk-estimator sk-toggleable\"><input class=\"sk-toggleable__control sk-hidden--visually\" id=\"sk-estimator-id-2\" type=\"checkbox\" checked><label for=\"sk-estimator-id-2\" class=\"sk-toggleable__label sk-toggleable__label-arrow\">StandardScaler</label><div class=\"sk-toggleable__content\"><pre>StandardScaler()</pre></div></div></div></div></div>"
      ],
      "text/plain": [
       "StandardScaler()"
      ]
     },
     "execution_count": 56,
     "metadata": {},
     "output_type": "execute_result"
    }
   ],
   "source": [
    "from sklearn.preprocessing import StandardScaler\n",
    "\n",
    "ss= StandardScaler()\n",
    "ss.fit(train_poly)"
   ]
  },
  {
   "cell_type": "code",
   "execution_count": 58,
   "metadata": {},
   "outputs": [
    {
     "data": {
      "text/plain": [
       "(42, 55)"
      ]
     },
     "execution_count": 58,
     "metadata": {},
     "output_type": "execute_result"
    }
   ],
   "source": [
    "train_poly.shape"
   ]
  },
  {
   "cell_type": "code",
   "execution_count": 59,
   "metadata": {},
   "outputs": [
    {
     "data": {
      "text/plain": [
       "array([[1.96000000e+01, 5.14000000e+00, 3.04000000e+00, ...,\n",
       "        7.42244501e+02, 4.38992857e+02, 2.59637799e+02],\n",
       "       [2.20000000e+01, 5.88000000e+00, 3.52000000e+00, ...,\n",
       "        1.50793507e+03, 9.02709432e+02, 5.40397483e+02],\n",
       "       [1.87000000e+01, 5.20000000e+00, 3.12000000e+00, ...,\n",
       "        8.21240709e+02, 4.92744425e+02, 2.95646655e+02],\n",
       "       ...,\n",
       "       [2.56000000e+01, 6.56000000e+00, 4.24000000e+00, ...,\n",
       "        3.28023719e+03, 2.12015331e+03, 1.37034299e+03],\n",
       "       [4.20000000e+01, 1.28000000e+01, 6.87000000e+00, ...,\n",
       "        5.31239245e+04, 2.85126063e+04, 1.53032504e+04],\n",
       "       [3.45000000e+01, 1.02600000e+01, 6.39000000e+00, ...,\n",
       "        2.74661189e+04, 1.71060916e+04, 1.06537939e+04]])"
      ]
     },
     "execution_count": 59,
     "metadata": {},
     "output_type": "execute_result"
    }
   ],
   "source": [
    "train_poly"
   ]
  },
  {
   "cell_type": "code",
   "execution_count": 64,
   "metadata": {},
   "outputs": [
    {
     "data": {
      "text/plain": [
       "array([[8.40000000e+00, 2.11000000e+00, 1.41000000e+00, 7.05600000e+01,\n",
       "        1.77240000e+01, 1.18440000e+01, 4.45210000e+00, 2.97510000e+00,\n",
       "        1.98810000e+00, 5.92704000e+02, 1.48881600e+02, 9.94896000e+01,\n",
       "        3.73976400e+01, 2.49908400e+01, 1.67000400e+01, 9.39393100e+00,\n",
       "        6.27746100e+00, 4.19489100e+00, 2.80322100e+00, 4.97871360e+03,\n",
       "        1.25060544e+03, 8.35712640e+02, 3.14140176e+02, 2.09923056e+02,\n",
       "        1.40280336e+02, 7.89090204e+01, 5.27306724e+01, 3.52370844e+01,\n",
       "        2.35470564e+01, 1.98211944e+01, 1.32454427e+01, 8.85122001e+00,\n",
       "        5.91479631e+00, 3.95254161e+00, 4.18211942e+04, 1.05050857e+04,\n",
       "        7.01998618e+03, 2.63877748e+03, 1.76335367e+03, 1.17835482e+03,\n",
       "        6.62835771e+02, 4.42937648e+02, 2.95991509e+02, 1.97795274e+02,\n",
       "        1.66498033e+02, 1.11261719e+02, 7.43502481e+01, 4.96842890e+01,\n",
       "        3.32013495e+01, 4.18227202e+01, 2.79478841e+01, 1.86760742e+01,\n",
       "        1.24802202e+01, 8.33986280e+00, 5.57308367e+00],\n",
       "       [1.80000000e+01, 5.22000000e+00, 3.32000000e+00, 3.24000000e+02,\n",
       "        9.39600000e+01, 5.97600000e+01, 2.72484000e+01, 1.73304000e+01,\n",
       "        1.10224000e+01, 5.83200000e+03, 1.69128000e+03, 1.07568000e+03,\n",
       "        4.90471200e+02, 3.11947200e+02, 1.98403200e+02, 1.42236648e+02,\n",
       "        9.04646880e+01, 5.75369280e+01, 3.65943680e+01, 1.04976000e+05,\n",
       "        3.04430400e+04, 1.93622400e+04, 8.82848160e+03, 5.61504960e+03,\n",
       "        3.57125760e+03, 2.56025966e+03, 1.62836438e+03, 1.03566470e+03,\n",
       "        6.58698624e+02, 7.42475303e+02, 4.72225671e+02, 3.00342764e+02,\n",
       "        1.91022601e+02, 1.21493302e+02, 1.88956800e+06, 5.47974720e+05,\n",
       "        3.48520320e+05, 1.58912669e+05, 1.01070893e+05, 6.42826368e+04,\n",
       "        4.60846740e+04, 2.93105589e+04, 1.86419647e+04, 1.18565752e+04,\n",
       "        1.33645554e+04, 8.50006208e+03, 5.40616975e+03, 3.43840682e+03,\n",
       "        2.18687943e+03, 3.87572108e+03, 2.46501800e+03, 1.56778923e+03,\n",
       "        9.97137977e+02, 6.34195035e+02, 4.03357762e+02],\n",
       "       [2.75000000e+01, 7.28000000e+00, 4.57000000e+00, 7.56250000e+02,\n",
       "        2.00200000e+02, 1.25675000e+02, 5.29984000e+01, 3.32696000e+01,\n",
       "        2.08849000e+01, 2.07968750e+04, 5.50550000e+03, 3.45606250e+03,\n",
       "        1.45745600e+03, 9.14914000e+02, 5.74334750e+02, 3.85828352e+02,\n",
       "        2.42202688e+02, 1.52042072e+02, 9.54439930e+01, 5.71914062e+05,\n",
       "        1.51401250e+05, 9.50417188e+04, 4.00800400e+04, 2.51601350e+04,\n",
       "        1.57942056e+04, 1.06102797e+04, 6.66057392e+03, 4.18115698e+03,\n",
       "        2.62470981e+03, 2.80883040e+03, 1.76323557e+03, 1.10686628e+03,\n",
       "        6.94832269e+02, 4.36179048e+02, 1.57276367e+07, 4.16353438e+06,\n",
       "        2.61364727e+06, 1.10220110e+06, 6.91903713e+05, 4.34340655e+05,\n",
       "        2.91782691e+05, 1.83165783e+05, 1.14981817e+05, 7.21795197e+04,\n",
       "        7.72428361e+04, 4.84889781e+04, 3.04388228e+04, 1.91078874e+04,\n",
       "        1.19949238e+04, 2.04482853e+04, 1.28363549e+04, 8.05798655e+03,\n",
       "        5.05837892e+03, 3.17538347e+03, 1.99333825e+03],\n",
       "       [2.13000000e+01, 6.38000000e+00, 3.53000000e+00, 4.53690000e+02,\n",
       "        1.35894000e+02, 7.51890000e+01, 4.07044000e+01, 2.25214000e+01,\n",
       "        1.24609000e+01, 9.66359700e+03, 2.89454220e+03, 1.60152570e+03,\n",
       "        8.67003720e+02, 4.79705820e+02, 2.65417170e+02, 2.59694072e+02,\n",
       "        1.43686532e+02, 7.95005420e+01, 4.39869770e+01, 2.05834616e+05,\n",
       "        6.16537489e+04, 3.41124974e+04, 1.84671792e+04, 1.02177340e+04,\n",
       "        5.65338572e+03, 5.53148373e+03, 3.06052313e+03, 1.69336154e+03,\n",
       "        9.36922610e+02, 1.65684818e+03, 9.16720074e+02, 5.07213458e+02,\n",
       "        2.80636913e+02, 1.55274029e+02, 4.38427732e+06, 1.31322485e+06,\n",
       "        7.26596195e+05, 3.93350918e+05, 2.17637733e+05, 1.20417116e+05,\n",
       "        1.17820604e+05, 6.51891427e+04, 3.60686009e+04, 1.99564516e+04,\n",
       "        3.52908662e+04, 1.95261376e+04, 1.08036467e+04, 5.97756625e+03,\n",
       "        3.30733681e+03, 1.05706914e+04, 5.84867407e+03, 3.23602186e+03,\n",
       "        1.79046351e+03, 9.90648304e+02, 5.48117322e+02],\n",
       "       [2.25000000e+01, 5.86000000e+00, 3.62000000e+00, 5.06250000e+02,\n",
       "        1.31850000e+02, 8.14500000e+01, 3.43396000e+01, 2.12132000e+01,\n",
       "        1.31044000e+01, 1.13906250e+04, 2.96662500e+03, 1.83262500e+03,\n",
       "        7.72641000e+02, 4.77297000e+02, 2.94849000e+02, 2.01230056e+02,\n",
       "        1.24309352e+02, 7.67917840e+01, 4.74379280e+01, 2.56289062e+05,\n",
       "        6.67490625e+04, 4.12340625e+04, 1.73844225e+04, 1.07391825e+04,\n",
       "        6.63410250e+03, 4.52767626e+03, 2.79696042e+03, 1.72781514e+03,\n",
       "        1.06735338e+03, 1.17920813e+03, 7.28452803e+02, 4.49999854e+02,\n",
       "        2.77986258e+02, 1.71725299e+02, 5.76650391e+06, 1.50185391e+06,\n",
       "        9.27766406e+05, 3.91149506e+05, 2.41631606e+05, 1.49267306e+05,\n",
       "        1.01872716e+05, 6.29316094e+04, 3.88758407e+04, 2.40154510e+04,\n",
       "        2.65321829e+04, 1.63901881e+04, 1.01249967e+04, 6.25469081e+03,\n",
       "        3.86381924e+03, 6.91015963e+03, 4.26873342e+03, 2.63699915e+03,\n",
       "        1.62899947e+03, 1.00631025e+03, 6.21645584e+02],\n",
       "       [4.00000000e+01, 1.11400000e+01, 6.63000000e+00, 1.60000000e+03,\n",
       "        4.45600000e+02, 2.65200000e+02, 1.24099600e+02, 7.38582000e+01,\n",
       "        4.39569000e+01, 6.40000000e+04, 1.78240000e+04, 1.06080000e+04,\n",
       "        4.96398400e+03, 2.95432800e+03, 1.75827600e+03, 1.38246954e+03,\n",
       "        8.22780348e+02, 4.89679866e+02, 2.91434247e+02, 2.56000000e+06,\n",
       "        7.12960000e+05, 4.24320000e+05, 1.98559360e+05, 1.18173120e+05,\n",
       "        7.03310400e+04, 5.52987818e+04, 3.29112139e+04, 1.95871946e+04,\n",
       "        1.16573699e+04, 1.54007107e+04, 9.16577308e+03, 5.45503371e+03,\n",
       "        3.24657751e+03, 1.93220906e+03, 1.02400000e+08, 2.85184000e+07,\n",
       "        1.69728000e+07, 7.94237440e+06, 4.72692480e+06, 2.81324160e+06,\n",
       "        2.21195127e+06, 1.31644856e+06, 7.83487786e+05, 4.66294795e+05,\n",
       "        6.16028429e+05, 3.66630923e+05, 2.18201348e+05, 1.29863100e+05,\n",
       "        7.72883623e+04, 1.71563917e+05, 1.02106712e+05, 6.07690755e+04,\n",
       "        3.61668735e+04, 2.15248089e+04, 1.28105461e+04],\n",
       "       [3.00000000e+01, 7.62000000e+00, 4.77000000e+00, 9.00000000e+02,\n",
       "        2.28600000e+02, 1.43100000e+02, 5.80644000e+01, 3.63474000e+01,\n",
       "        2.27529000e+01, 2.70000000e+04, 6.85800000e+03, 4.29300000e+03,\n",
       "        1.74193200e+03, 1.09042200e+03, 6.82587000e+02, 4.42450728e+02,\n",
       "        2.76967188e+02, 1.73377098e+02, 1.08531333e+02, 8.10000000e+05,\n",
       "        2.05740000e+05, 1.28790000e+05, 5.22579600e+04, 3.27126600e+04,\n",
       "        2.04776100e+04, 1.32735218e+04, 8.30901564e+03, 5.20131294e+03,\n",
       "        3.25593999e+03, 3.37147455e+03, 2.11048997e+03, 1.32113349e+03,\n",
       "        8.27008757e+02, 5.17694458e+02, 2.43000000e+07, 6.17220000e+06,\n",
       "        3.86370000e+06, 1.56773880e+06, 9.81379800e+05, 6.14328300e+05,\n",
       "        3.98205655e+05, 2.49270469e+05, 1.56039388e+05, 9.76781997e+04,\n",
       "        1.01144236e+05, 6.33146992e+04, 3.96340046e+04, 2.48102627e+04,\n",
       "        1.55308338e+04, 2.56906361e+04, 1.60819336e+04, 1.00670372e+04,\n",
       "        6.30180673e+03, 3.94483177e+03, 2.46940257e+03],\n",
       "       [2.46000000e+01, 6.73000000e+00, 4.17000000e+00, 6.05160000e+02,\n",
       "        1.65558000e+02, 1.02582000e+02, 4.52929000e+01, 2.80641000e+01,\n",
       "        1.73889000e+01, 1.48869360e+04, 4.07272680e+03, 2.52351720e+03,\n",
       "        1.11420534e+03, 6.90376860e+02, 4.27766940e+02, 3.04821217e+02,\n",
       "        1.88871393e+02, 1.17027297e+02, 7.25117130e+01, 3.66218626e+05,\n",
       "        1.00189079e+05, 6.20785231e+04, 2.74094514e+04, 1.69832708e+04,\n",
       "        1.05230667e+04, 7.49860194e+03, 4.64623627e+03, 2.87887151e+03,\n",
       "        1.78378814e+03, 2.05144679e+03, 1.27110447e+03, 7.87593709e+02,\n",
       "        4.88003828e+02, 3.02373843e+02, 9.00897819e+06, 2.46465135e+06,\n",
       "        1.52713167e+06, 6.74272504e+05, 4.17788461e+05, 2.58867441e+05,\n",
       "        1.84465608e+05, 1.14297412e+05, 7.08202391e+04, 4.38811882e+04,\n",
       "        5.04655910e+04, 3.12691701e+04, 1.93748052e+04, 1.20048942e+04,\n",
       "        7.43839654e+03, 1.38062369e+04, 8.55453312e+03, 5.30050566e+03,\n",
       "        3.28426577e+03, 2.03497596e+03, 1.26089893e+03],\n",
       "       [3.90000000e+01, 1.11400000e+01, 7.49000000e+00, 1.52100000e+03,\n",
       "        4.34460000e+02, 2.92110000e+02, 1.24099600e+02, 8.34386000e+01,\n",
       "        5.61001000e+01, 5.93190000e+04, 1.69439400e+04, 1.13922900e+04,\n",
       "        4.83988440e+03, 3.25410540e+03, 2.18790390e+03, 1.38246954e+03,\n",
       "        9.29506004e+02, 6.24955114e+02, 4.20189749e+02, 2.31344100e+06,\n",
       "        6.60813660e+05, 4.44299310e+05, 1.88755492e+05, 1.26910111e+05,\n",
       "        8.53282521e+04, 5.39163122e+04, 3.62507342e+04, 2.43732494e+04,\n",
       "        1.63874002e+04, 1.54007107e+04, 1.03546969e+04, 6.96199997e+03,\n",
       "        4.68091380e+03, 3.14722122e+03, 9.02241990e+07, 2.57717327e+07,\n",
       "        1.73276731e+07, 7.36146417e+06, 4.94949431e+06, 3.32780183e+06,\n",
       "        2.10273618e+06, 1.41377863e+06, 9.50556728e+05, 6.39108608e+05,\n",
       "        6.00627718e+05, 4.03833178e+05, 2.71517999e+05, 1.82555638e+05,\n",
       "        1.22741628e+05, 1.71563917e+05, 1.15351323e+05, 7.75566797e+04,\n",
       "        5.21453798e+04, 3.50600444e+04, 2.35726869e+04],\n",
       "       [2.10000000e+01, 5.69000000e+00, 3.67000000e+00, 4.41000000e+02,\n",
       "        1.19490000e+02, 7.70700000e+01, 3.23761000e+01, 2.08823000e+01,\n",
       "        1.34689000e+01, 9.26100000e+03, 2.50929000e+03, 1.61847000e+03,\n",
       "        6.79898100e+02, 4.38528300e+02, 2.82846900e+02, 1.84220009e+02,\n",
       "        1.18820287e+02, 7.66380410e+01, 4.94308630e+01, 1.94481000e+05,\n",
       "        5.26950900e+04, 3.39878700e+04, 1.42778601e+04, 9.20909430e+03,\n",
       "        5.93978490e+03, 3.86862019e+03, 2.49522603e+03, 1.60939886e+03,\n",
       "        1.03804812e+03, 1.04821185e+03, 6.76087433e+02, 4.36070453e+02,\n",
       "        2.81261610e+02, 1.81411267e+02, 4.08410100e+06, 1.10659689e+06,\n",
       "        7.13745270e+05, 2.99835062e+05, 1.93390980e+05, 1.24735483e+05,\n",
       "        8.12410240e+04, 5.23997466e+04, 3.37973761e+04, 2.17990106e+04,\n",
       "        2.20124489e+04, 1.41978361e+04, 9.15747952e+03, 5.90649382e+03,\n",
       "        3.80963661e+03, 5.96432543e+03, 3.84693749e+03, 2.48124088e+03,\n",
       "        1.60037856e+03, 1.03223011e+03, 6.65779351e+02],\n",
       "       [4.35000000e+01, 1.26000000e+01, 8.14000000e+00, 1.89225000e+03,\n",
       "        5.48100000e+02, 3.54090000e+02, 1.58760000e+02, 1.02564000e+02,\n",
       "        6.62596000e+01, 8.23128750e+04, 2.38423500e+04, 1.54029150e+04,\n",
       "        6.90606000e+03, 4.46153400e+03, 2.88229260e+03, 2.00037600e+03,\n",
       "        1.29230640e+03, 8.34870960e+02, 5.39353144e+02, 3.58061006e+06,\n",
       "        1.03714223e+06, 6.70026802e+05, 3.00413610e+05, 1.94076729e+05,\n",
       "        1.25379728e+05, 8.70163560e+04, 5.62153284e+04, 3.63168868e+04,\n",
       "        2.34618618e+04, 2.52047376e+04, 1.62830606e+04, 1.05193741e+04,\n",
       "        6.79584961e+03, 4.39033459e+03, 1.55756538e+08, 4.51156868e+07,\n",
       "        2.91461659e+07, 1.30679920e+07, 8.44233771e+06, 5.45401817e+06,\n",
       "        3.78521149e+06, 2.44536679e+06, 1.57978457e+06, 1.02059099e+06,\n",
       "        1.09640609e+06, 7.08313138e+05, 4.57592773e+05, 2.95619458e+05,\n",
       "        1.90979555e+05, 3.17579694e+05, 2.05166564e+05, 1.32544114e+05,\n",
       "        8.56277051e+04, 5.53182159e+04, 3.57373236e+04],\n",
       "       [1.62000000e+01, 4.59000000e+00, 2.63000000e+00, 2.62440000e+02,\n",
       "        7.43580000e+01, 4.26060000e+01, 2.10681000e+01, 1.20717000e+01,\n",
       "        6.91690000e+00, 4.25152800e+03, 1.20459960e+03, 6.90217200e+02,\n",
       "        3.41303220e+02, 1.95561540e+02, 1.12053780e+02, 9.67025790e+01,\n",
       "        5.54091030e+01, 3.17485710e+01, 1.81914470e+01, 6.88747536e+04,\n",
       "        1.95145135e+04, 1.11815186e+04, 5.52911216e+03, 3.16809695e+03,\n",
       "        1.81527124e+03, 1.56658178e+03, 8.97627469e+02, 5.14326850e+02,\n",
       "        2.94701441e+02, 4.43864838e+02, 2.54327783e+02, 1.45725941e+02,\n",
       "        8.34987417e+01, 4.78435056e+01, 1.11577101e+06, 3.16135119e+05,\n",
       "        1.81140602e+05, 8.95716171e+04, 5.13231706e+04, 2.94073940e+04,\n",
       "        2.53786248e+04, 1.45415650e+04, 8.33209497e+03, 4.77416335e+03,\n",
       "        7.19061037e+03, 4.12011008e+03, 2.36076024e+03, 1.35267962e+03,\n",
       "        7.75064791e+02, 2.03733960e+03, 1.16736452e+03, 6.68882069e+02,\n",
       "        3.83259225e+02, 2.19601691e+02, 1.25828420e+02],\n",
       "       [2.80000000e+01, 7.82000000e+00, 4.20000000e+00, 7.84000000e+02,\n",
       "        2.18960000e+02, 1.17600000e+02, 6.11524000e+01, 3.28440000e+01,\n",
       "        1.76400000e+01, 2.19520000e+04, 6.13088000e+03, 3.29280000e+03,\n",
       "        1.71226720e+03, 9.19632000e+02, 4.93920000e+02, 4.78211768e+02,\n",
       "        2.56840080e+02, 1.37944800e+02, 7.40880000e+01, 6.14656000e+05,\n",
       "        1.71664640e+05, 9.21984000e+04, 4.79434816e+04, 2.57496960e+04,\n",
       "        1.38297600e+04, 1.33899295e+04, 7.19152224e+03, 3.86245440e+03,\n",
       "        2.07446400e+03, 3.73961603e+03, 2.00848943e+03, 1.07872834e+03,\n",
       "        5.79368160e+02, 3.11169600e+02, 1.72103680e+07, 4.80660992e+06,\n",
       "        2.58155520e+06, 1.34241748e+06, 7.20991488e+05, 3.87233280e+05,\n",
       "        3.74918026e+05, 2.01362623e+05, 1.08148723e+05, 5.80849920e+04,\n",
       "        1.04709249e+05, 5.62377039e+04, 3.02043934e+04, 1.62223085e+04,\n",
       "        8.71274880e+03, 2.92437973e+04, 1.57063873e+04, 8.43565559e+03,\n",
       "        4.53065901e+03, 2.43334627e+03, 1.30691232e+03],\n",
       "       [2.73000000e+01, 8.32000000e+00, 5.14000000e+00, 7.45290000e+02,\n",
       "        2.27136000e+02, 1.40322000e+02, 6.92224000e+01, 4.27648000e+01,\n",
       "        2.64196000e+01, 2.03464170e+04, 6.20081280e+03, 3.83079060e+03,\n",
       "        1.88977152e+03, 1.16747904e+03, 7.21255080e+02, 5.75930368e+02,\n",
       "        3.55803136e+02, 2.19811072e+02, 1.35796744e+02, 5.55457184e+05,\n",
       "        1.69282189e+05, 1.04580583e+05, 5.15907625e+04, 3.18721778e+04,\n",
       "        1.96902637e+04, 1.57228990e+04, 9.71342561e+03, 6.00084227e+03,\n",
       "        3.70725111e+03, 4.79174066e+03, 2.96028209e+03, 1.82882812e+03,\n",
       "        1.12982891e+03, 6.97995264e+02, 1.51639811e+07, 4.62140377e+06,\n",
       "        2.85504993e+06, 1.40842782e+06, 8.70110454e+05, 5.37544199e+05,\n",
       "        4.29235144e+05, 2.65176519e+05, 1.63822994e+05, 1.01207955e+05,\n",
       "        1.30814520e+05, 8.08157011e+04, 4.99270076e+04, 3.08443292e+04,\n",
       "        1.90552707e+04, 3.98672823e+04, 2.46295470e+04, 1.52158500e+04,\n",
       "        9.40017653e+03, 5.80732060e+03, 3.58769566e+03]])"
      ]
     },
     "execution_count": 64,
     "metadata": {},
     "output_type": "execute_result"
    }
   ],
   "source": [
    "test_poly"
   ]
  },
  {
   "cell_type": "code",
   "execution_count": 60,
   "metadata": {},
   "outputs": [],
   "source": [
    "train_scaled = ss.transform(train_poly)\n",
    "test_scaled = ss.transform(test_poly)"
   ]
  },
  {
   "cell_type": "code",
   "execution_count": 63,
   "metadata": {},
   "outputs": [
    {
     "data": {
      "text/plain": [
       "array([[-1.01339619, -1.01007487, -1.01952321, ..., -0.76449499,\n",
       "        -0.75967179, -0.75143746],\n",
       "       [-0.73842893, -0.75254307, -0.74466913, ..., -0.73198449,\n",
       "        -0.72731765, -0.71950111],\n",
       "       [-1.11650891, -0.98919391, -0.97371419, ..., -0.76114089,\n",
       "        -0.75592147, -0.74734146],\n",
       "       ...,\n",
       "       [-0.32597805, -0.51589222, -0.33238802, ..., -0.65673421,\n",
       "        -0.64237495, -0.62509499],\n",
       "       [ 1.55296488,  1.65572732,  1.17358328, ...,  1.45958191,\n",
       "         1.19906225,  0.95977016],\n",
       "       [ 0.6936922 ,  0.7717668 ,  0.8987292 , ...,  0.3701756 ,\n",
       "         0.40321427,  0.43089551]])"
      ]
     },
     "execution_count": 63,
     "metadata": {},
     "output_type": "execute_result"
    }
   ],
   "source": [
    "train_scaled"
   ]
  },
  {
   "cell_type": "markdown",
   "metadata": {},
   "source": [
    "#### 규제\n",
    "- 훈련세트에 치중해서 과대적합이 되지 않도록 규제해주는 작업  : 릿지/라쏘모델\n",
    "\n",
    "#### 릿지모델"
   ]
  },
  {
   "cell_type": "code",
   "execution_count": 66,
   "metadata": {},
   "outputs": [
    {
     "data": {
      "text/plain": [
       "0.9896101671037343"
      ]
     },
     "execution_count": 66,
     "metadata": {},
     "output_type": "execute_result"
    }
   ],
   "source": [
    "from sklearn.linear_model import Ridge\n",
    "\n",
    "ridge = Ridge()\n",
    "ridge.fit(X=train_scaled,y=train_target)\n",
    "ridge.score(X=train_scaled,y=train_target)"
   ]
  },
  {
   "cell_type": "code",
   "execution_count": 67,
   "metadata": {},
   "outputs": [
    {
     "data": {
      "text/plain": [
       "0.9790693977615383"
      ]
     },
     "execution_count": 67,
     "metadata": {},
     "output_type": "execute_result"
    }
   ],
   "source": [
    "ridge.score(X=test_scaled,y=test_target)"
   ]
  },
  {
   "cell_type": "markdown",
   "metadata": {},
   "source": [
    "#### 하이퍼파라미터 alpha 값 찾기 \n",
    "-  사람이 지정해줘야 하는 것 : 하이퍼파라미터"
   ]
  },
  {
   "cell_type": "code",
   "execution_count": 68,
   "metadata": {},
   "outputs": [],
   "source": [
    "import matplotlib.pyplot as plt\n",
    "\n",
    "train_score = []\n",
    "test_score = []"
   ]
  },
  {
   "cell_type": "code",
   "execution_count": 69,
   "metadata": {},
   "outputs": [],
   "source": [
    "alpha_list = [0.001,0.01,0.1,1,10,100]\n",
    "\n",
    "for alpha in alpha_list: # 여섯번 훈련\n",
    "     ridge = Ridge(alpha=alpha) # 알파 값 변경하면서 6번 생성\n",
    "     ridge.fit(X=train_scaled,y=train_target)\n",
    "\n",
    "     train_score.append(ridge.score(X=train_scaled,y=train_target))\n",
    "     test_score.append(ridge.score(X=test_scaled,y=test_target))"
   ]
  },
  {
   "cell_type": "code",
   "execution_count": 70,
   "metadata": {},
   "outputs": [
    {
     "data": {
      "text/plain": [
       "[0.9930455252088513,\n",
       " 0.9917809981250514,\n",
       " 0.9903815817570366,\n",
       " 0.9896101671037343,\n",
       " 0.988728468997471,\n",
       " 0.9841843235774494]"
      ]
     },
     "execution_count": 70,
     "metadata": {},
     "output_type": "execute_result"
    }
   ],
   "source": [
    "train_score"
   ]
  },
  {
   "cell_type": "code",
   "execution_count": 71,
   "metadata": {},
   "outputs": [
    {
     "data": {
      "text/plain": [
       "[0.9569388961546104,\n",
       " 0.9800187936870526,\n",
       " 0.9827976465386937,\n",
       " 0.9790693977615383,\n",
       " 0.9725329582461569,\n",
       " 0.9627042641050291]"
      ]
     },
     "execution_count": 71,
     "metadata": {},
     "output_type": "execute_result"
    }
   ],
   "source": [
    "test_score"
   ]
  },
  {
   "cell_type": "code",
   "execution_count": 76,
   "metadata": {},
   "outputs": [
    {
     "data": {
      "image/png": "[encoded data removed]",
      "text/plain": [
       "<Figure size 720x360 with 1 Axes>"
      ]
     },
     "metadata": {
      "needs_background": "light"
     },
     "output_type": "display_data"
    }
   ],
   "source": [
    "plt.figure(figsize=(10,5))\n",
    "plt.plot(np.log10(alpha_list),train_score,color='green')\n",
    "plt.plot(np.log10(alpha_list),test_score)\n",
    "plt.show()"
   ]
  },
  {
   "cell_type": "code",
   "execution_count": 79,
   "metadata": {},
   "outputs": [
    {
     "name": "stdout",
     "output_type": "stream",
     "text": [
      "0.9903815817570366\n",
      "0.9827976465386937\n"
     ]
    }
   ],
   "source": [
    "# alpha = -1 (0.1) 이 가장 좋다. 적당\n",
    "ridge = Ridge(alpha=0.1) \n",
    "ridge.fit(X=train_scaled,y=train_target)\n",
    "\n",
    "print(ridge.score(X=train_scaled,y=train_target))\n",
    "print(ridge.score(X=test_scaled,y=test_target))"
   ]
  },
  {
   "cell_type": "code",
   "execution_count": 81,
   "metadata": {},
   "outputs": [
    {
     "name": "stdout",
     "output_type": "stream",
     "text": [
      "[ 27.61933479  -1.64022156 -19.73256036  30.0306195   16.99800255\n",
      "  17.83247301   4.46928273   3.87258547  22.8351822   19.50417483\n",
      "  17.75985317  14.53122144  13.34875736   7.57294011  19.2573194\n",
      "   5.12766348  -2.05671393  10.62376405  41.72322888   5.90722851\n",
      "  14.93389276  -0.4506018   19.86035413   1.27084276  -1.00708878\n",
      "  19.69043816  -1.15817017  -3.57357468  11.96629206  13.68484378\n",
      "  -8.41738209  -9.97919956   8.42421045  45.51544903  -6.23828569\n",
      "  13.36080282 -17.64759601  28.23566212  -6.56619234 -25.89115813\n",
      "  37.3785331   -0.39779345 -20.82275921 -23.80607786  39.96650626\n",
      "   0.10569722 -20.49768851 -21.74712923  -4.12579289  35.39224119\n",
      "  -5.59195    -25.3889504  -23.93962265  -1.89229971  39.44235556]\n",
      "400.8333333333333\n"
     ]
    }
   ],
   "source": [
    "print(ridge.coef_)\n",
    "print(ridge.intercept_)"
   ]
  },
  {
   "cell_type": "markdown",
   "metadata": {},
   "source": [
    "#### 라쏘회귀모델"
   ]
  },
  {
   "cell_type": "code",
   "execution_count": 82,
   "metadata": {},
   "outputs": [
    {
     "name": "stdout",
     "output_type": "stream",
     "text": [
      "0.9888067471131867\n",
      "0.9824470598706695\n"
     ]
    }
   ],
   "source": [
    "from sklearn.linear_model import Lasso\n",
    "\n",
    "lasso = Lasso(alpha=10)\n",
    "lasso.fit(X=train_scaled,y=train_target)\n",
    "print(lasso.score(X=train_scaled,y=train_target))\n",
    "print(lasso.score(X=test_scaled,y=test_target))\n"
   ]
  },
  {
   "cell_type": "code",
   "execution_count": 84,
   "metadata": {},
   "outputs": [
    {
     "name": "stdout",
     "output_type": "stream",
     "text": [
      "[ 0.          0.          0.         12.14852453 55.44856399 42.23100799\n",
      "  0.          0.         13.70596191  0.         43.2185952   5.7033775\n",
      " 47.46254536  7.42309425 11.85823365  0.          0.         13.53038193\n",
      " 21.22111356  0.          0.          0.          0.          0.\n",
      "  0.         18.66993032  0.          0.          0.         15.81041778\n",
      "  0.          0.          0.          0.          0.          0.\n",
      "  0.          0.          0.          0.          0.          0.\n",
      "  0.          0.         18.14672268  0.          0.          0.\n",
      "  0.         15.51272953  0.          0.          0.          0.\n",
      "  0.        ]\n",
      "400.8333333333333\n"
     ]
    }
   ],
   "source": [
    "print(lasso.coef_)\n",
    "print(lasso.intercept_)"
   ]
  },
  {
   "cell_type": "code",
   "execution_count": null,
   "metadata": {},
   "outputs": [],
   "source": []
  }
 ],
 "metadata": {
  "kernelspec": {
   "display_name": "Python 3.10.5 64-bit",
   "language": "python",
   "name": "python3"
  },
  "language_info": {
   "codemirror_mode": {
    "name": "ipython",
    "version": 3
   },
   "file_extension": ".py",
   "mimetype": "text/x-python",
   "name": "python",
   "nbconvert_exporter": "python",
   "pygments_lexer": "ipython3",
   "version": "3.10.5"
  },
  "orig_nbformat": 4,
  "vscode": {
   "interpreter": {
    "hash": "beedbe2faf2f7048d727558d0bc3221e7eba2a0b921cac4d4771b2feb8f74b30"
   }
  }
 },
 "nbformat": 4,
 "nbformat_minor": 2
}
