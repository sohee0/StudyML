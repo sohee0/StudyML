{
 "cells": [
  {
   "cell_type": "code",
   "execution_count": 2,
   "metadata": {},
   "outputs": [],
   "source": [
    "# 기본 패키지 추가\n",
    "import numpy as np\n",
    "import matplotlib.pyplot as plt\n",
    "import seaborn as sns\n",
    "import pandas as pd \n",
    "import scipy as sp \n",
    "import matplotlib as mpl\n",
    "\n",
    "# matplolib, 폰트설정\n",
    "from matplotlib import rc\n",
    "import matplotlib.font_manager as fm \n",
    "\n",
    "plt.rcParams['font.family']=['NanumBarunGothic.ttf']\n",
    "plt.rcParams['font.size']=14\n",
    "# plt.rc('font', family ='NanumSquareRoundR')\n",
    "sns.set(font = 'Malgun Gothic' ,rc={'axes.unicode_minus':False}, style='darkgrid')"
   ]
  },
  {
   "cell_type": "markdown",
   "metadata": {},
   "source": [
    "#### 패션MNIST 데이터"
   ]
  },
  {
   "cell_type": "code",
   "execution_count": 3,
   "metadata": {},
   "outputs": [],
   "source": [
    "from tensorflow import keras\n",
    "from tensorflow.keras.datasets.fashion_mnist import load_data\n",
    "from sklearn.model_selection import train_test_split"
   ]
  },
  {
   "cell_type": "code",
   "execution_count": 5,
   "metadata": {},
   "outputs": [],
   "source": [
    "(train_input,train_target),(test_input,test_target) = load_data()"
   ]
  },
  {
   "cell_type": "code",
   "execution_count": 6,
   "metadata": {},
   "outputs": [],
   "source": [
    "train_scaled = train_input / 255.0"
   ]
  },
  {
   "cell_type": "code",
   "execution_count": 7,
   "metadata": {},
   "outputs": [],
   "source": [
    "train_scaled, val_scaled, train_target,val_target = train_test_split(train_scaled,train_target,test_size=0.2,random_state=42)"
   ]
  },
  {
   "cell_type": "code",
   "execution_count": 8,
   "metadata": {},
   "outputs": [
    {
     "data": {
      "text/plain": [
       "(60000, 28, 28)"
      ]
     },
     "execution_count": 8,
     "metadata": {},
     "output_type": "execute_result"
    }
   ],
   "source": [
    "train_input.shape"
   ]
  },
  {
   "cell_type": "code",
   "execution_count": 9,
   "metadata": {},
   "outputs": [
    {
     "name": "stdout",
     "output_type": "stream",
     "text": [
      "(48000, 28, 28) (48000,)\n",
      "(12000, 28, 28) (12000,)\n"
     ]
    }
   ],
   "source": [
    "print(train_scaled.shape,train_target.shape)\n",
    "print(val_scaled.shape,val_target.shape)"
   ]
  },
  {
   "cell_type": "markdown",
   "metadata": {},
   "source": [
    "####  모델 생성 함수"
   ]
  },
  {
   "cell_type": "code",
   "execution_count": 10,
   "metadata": {},
   "outputs": [],
   "source": [
    "def model_fn(a_layer=None):\n",
    "     model = keras.Sequential(name='model_fn_MakeModel')\n",
    "     model.add(keras.layers.Flatten(input_shape=(28,28)))\n",
    "     model.add(keras.layers.Dense(100, activation='relu', name='hidden'))\n",
    "\n",
    "     if a_layer:\n",
    "          model.add(a_layer)\n",
    "\n",
    "     model.add(keras.layers.Dense(10,activation='softmax',name='output'))\n",
    "\n",
    "     return model"
   ]
  },
  {
   "cell_type": "code",
   "execution_count": 11,
   "metadata": {},
   "outputs": [
    {
     "name": "stdout",
     "output_type": "stream",
     "text": [
      "Model: \"model_fn_MakeModel\"\n",
      "_________________________________________________________________\n",
      " Layer (type)                Output Shape              Param #   \n",
      "=================================================================\n",
      " flatten (Flatten)           (None, 784)               0         \n",
      "                                                                 \n",
      " hidden (Dense)              (None, 100)               78500     \n",
      "                                                                 \n",
      " hidden2 (Dense)             (None, 100)               10100     \n",
      "                                                                 \n",
      " output (Dense)              (None, 10)                1010      \n",
      "                                                                 \n",
      "=================================================================\n",
      "Total params: 89,610\n",
      "Trainable params: 89,610\n",
      "Non-trainable params: 0\n",
      "_________________________________________________________________\n"
     ]
    }
   ],
   "source": [
    "# 함수사용예시\n",
    "model = model_fn(keras.layers.Dense(100, activation='relu',name='hidden2'))\n",
    "model.summary()"
   ]
  },
  {
   "cell_type": "markdown",
   "metadata": {},
   "source": [
    "#### 손실곡선 , 정확도 "
   ]
  },
  {
   "cell_type": "code",
   "execution_count": 12,
   "metadata": {},
   "outputs": [
    {
     "name": "stdout",
     "output_type": "stream",
     "text": [
      "Model: \"model_fn_MakeModel\"\n",
      "_________________________________________________________________\n",
      " Layer (type)                Output Shape              Param #   \n",
      "=================================================================\n",
      " flatten_1 (Flatten)         (None, 784)               0         \n",
      "                                                                 \n",
      " hidden (Dense)              (None, 100)               78500     \n",
      "                                                                 \n",
      " output (Dense)              (None, 10)                1010      \n",
      "                                                                 \n",
      "=================================================================\n",
      "Total params: 79,510\n",
      "Trainable params: 79,510\n",
      "Non-trainable params: 0\n",
      "_________________________________________________________________\n"
     ]
    }
   ],
   "source": [
    "model = model_fn()\n",
    "model.summary()"
   ]
  },
  {
   "cell_type": "code",
   "execution_count": 13,
   "metadata": {},
   "outputs": [
    {
     "name": "stdout",
     "output_type": "stream",
     "text": [
      "Epoch 1/5\n",
      "1500/1500 - 2s - loss: 0.5284 - accuracy: 0.8136 - 2s/epoch - 1ms/step\n",
      "Epoch 2/5\n",
      "1500/1500 - 2s - loss: 0.3943 - accuracy: 0.8579 - 2s/epoch - 1ms/step\n",
      "Epoch 3/5\n",
      "1500/1500 - 2s - loss: 0.3552 - accuracy: 0.8716 - 2s/epoch - 1ms/step\n",
      "Epoch 4/5\n",
      "1500/1500 - 2s - loss: 0.3364 - accuracy: 0.8789 - 2s/epoch - 1ms/step\n",
      "Epoch 5/5\n",
      "1500/1500 - 2s - loss: 0.3208 - accuracy: 0.8853 - 2s/epoch - 1ms/step\n"
     ]
    }
   ],
   "source": [
    "model.compile(loss='sparse_categorical_crossentropy',metrics='accuracy')\n",
    "history = model.fit(train_scaled,train_target,epochs=5, verbose=2)"
   ]
  },
  {
   "cell_type": "code",
   "execution_count": 14,
   "metadata": {},
   "outputs": [
    {
     "data": {
      "text/plain": [
       "{'loss': [0.5284066796302795,\n",
       "  0.39431220293045044,\n",
       "  0.35521984100341797,\n",
       "  0.33642369508743286,\n",
       "  0.32078731060028076],\n",
       " 'accuracy': [0.8136249780654907,\n",
       "  0.8579166531562805,\n",
       "  0.8715833425521851,\n",
       "  0.8788958191871643,\n",
       "  0.8852916955947876]}"
      ]
     },
     "execution_count": 14,
     "metadata": {},
     "output_type": "execute_result"
    }
   ],
   "source": [
    "history.history"
   ]
  },
  {
   "cell_type": "markdown",
   "metadata": {},
   "source": [
    "#### 손실곡선"
   ]
  },
  {
   "cell_type": "code",
   "execution_count": 15,
   "metadata": {},
   "outputs": [
    {
     "data": {
      "image/png": "[encoded data removed]",
      "text/plain": [
       "<Figure size 720x360 with 1 Axes>"
      ]
     },
     "metadata": {
      "needs_background": "light"
     },
     "output_type": "display_data"
    }
   ],
   "source": [
    "plt.figure(figsize=(10,5))\n",
    "plt.plot(history.history['loss'])\n",
    "plt.xlabel('훈련횟수')\n",
    "plt.ylabel('손실값')\n",
    "plt.title('손실곡선')\n",
    "plt.show()"
   ]
  },
  {
   "cell_type": "markdown",
   "metadata": {},
   "source": [
    "#### 정확도"
   ]
  },
  {
   "cell_type": "code",
   "execution_count": 16,
   "metadata": {},
   "outputs": [
    {
     "data": {
      "image/png": "[encoded data removed]",
      "text/plain": [
       "<Figure size 720x360 with 1 Axes>"
      ]
     },
     "metadata": {
      "needs_background": "light"
     },
     "output_type": "display_data"
    }
   ],
   "source": [
    "plt.figure(figsize=(10,5))\n",
    "plt.plot(history.history['accuracy'])\n",
    "plt.xlabel('훈련횟수')\n",
    "plt.ylabel('정확도')\n",
    "plt.title('정확도')\n",
    "plt.show()"
   ]
  },
  {
   "cell_type": "markdown",
   "metadata": {},
   "source": [
    "#### epoch =20 훈련"
   ]
  },
  {
   "cell_type": "code",
   "execution_count": 17,
   "metadata": {},
   "outputs": [
    {
     "name": "stdout",
     "output_type": "stream",
     "text": [
      "Epoch 1/20\n",
      "1500/1500 [==============================] - 3s 2ms/step - loss: 0.5332 - accuracy: 0.8131\n",
      "Epoch 2/20\n",
      "1500/1500 [==============================] - 2s 2ms/step - loss: 0.3958 - accuracy: 0.8588\n",
      "Epoch 3/20\n",
      "1500/1500 [==============================] - 2s 2ms/step - loss: 0.3569 - accuracy: 0.8724\n",
      "Epoch 4/20\n",
      "1500/1500 [==============================] - 2s 2ms/step - loss: 0.3340 - accuracy: 0.8799\n",
      "Epoch 5/20\n",
      "1500/1500 [==============================] - 2s 2ms/step - loss: 0.3185 - accuracy: 0.8853\n",
      "Epoch 6/20\n",
      "1500/1500 [==============================] - 2s 2ms/step - loss: 0.3052 - accuracy: 0.8906\n",
      "Epoch 7/20\n",
      "1500/1500 [==============================] - 2s 2ms/step - loss: 0.2950 - accuracy: 0.8941\n",
      "Epoch 8/20\n",
      "1500/1500 [==============================] - 3s 2ms/step - loss: 0.2876 - accuracy: 0.8995\n",
      "Epoch 9/20\n",
      "1500/1500 [==============================] - 3s 2ms/step - loss: 0.2795 - accuracy: 0.9018\n",
      "Epoch 10/20\n",
      "1500/1500 [==============================] - 3s 2ms/step - loss: 0.2753 - accuracy: 0.9033\n",
      "Epoch 11/20\n",
      "1500/1500 [==============================] - 3s 2ms/step - loss: 0.2722 - accuracy: 0.9051\n",
      "Epoch 12/20\n",
      "1500/1500 [==============================] - 3s 2ms/step - loss: 0.2648 - accuracy: 0.9070\n",
      "Epoch 13/20\n",
      "1500/1500 [==============================] - 3s 2ms/step - loss: 0.2592 - accuracy: 0.9100\n",
      "Epoch 14/20\n",
      "1500/1500 [==============================] - 4s 2ms/step - loss: 0.2537 - accuracy: 0.9127\n",
      "Epoch 15/20\n",
      "1500/1500 [==============================] - 3s 2ms/step - loss: 0.2508 - accuracy: 0.9146\n",
      "Epoch 16/20\n",
      "1500/1500 [==============================] - 4s 2ms/step - loss: 0.2462 - accuracy: 0.9151\n",
      "Epoch 17/20\n",
      "1500/1500 [==============================] - 4s 2ms/step - loss: 0.2413 - accuracy: 0.9170\n",
      "Epoch 18/20\n",
      "1500/1500 [==============================] - 4s 3ms/step - loss: 0.2367 - accuracy: 0.9195\n",
      "Epoch 19/20\n",
      "1500/1500 [==============================] - 3s 2ms/step - loss: 0.2339 - accuracy: 0.9204\n",
      "Epoch 20/20\n",
      "1500/1500 [==============================] - 3s 2ms/step - loss: 0.2312 - accuracy: 0.9216\n"
     ]
    }
   ],
   "source": [
    "model = model_fn()\n",
    "model.compile(loss='sparse_categorical_crossentropy',metrics='accuracy')\n",
    "history=model.fit(train_scaled,train_target,epochs=20)\n"
   ]
  },
  {
   "cell_type": "code",
   "execution_count": 18,
   "metadata": {},
   "outputs": [
    {
     "data": {
      "image/png": "[encoded data removed]",
      "text/plain": [
       "<Figure size 720x360 with 1 Axes>"
      ]
     },
     "metadata": {
      "needs_background": "light"
     },
     "output_type": "display_data"
    }
   ],
   "source": [
    "plt.figure(figsize=(10,5))\n",
    "plt.plot(history.history['loss'])\n",
    "plt.plot(history.history['accuracy'])\n",
    "plt.xlabel('훈련횟수')\n",
    "plt.ylabel('val')\n",
    "plt.show()"
   ]
  },
  {
   "cell_type": "markdown",
   "metadata": {},
   "source": [
    "#### 검증손실\n",
    "- 훈련세트 훈련 -> 정확도 92% "
   ]
  },
  {
   "cell_type": "code",
   "execution_count": 19,
   "metadata": {},
   "outputs": [
    {
     "name": "stdout",
     "output_type": "stream",
     "text": [
      "Epoch 1/20\n",
      "1500/1500 [==============================] - 4s 2ms/step - loss: 0.5234 - accuracy: 0.8161 - val_loss: 0.4018 - val_accuracy: 0.8577\n",
      "Epoch 2/20\n",
      "1500/1500 [==============================] - 3s 2ms/step - loss: 0.3870 - accuracy: 0.8611 - val_loss: 0.4146 - val_accuracy: 0.8518\n",
      "Epoch 3/20\n",
      "1500/1500 [==============================] - 3s 2ms/step - loss: 0.3542 - accuracy: 0.8731 - val_loss: 0.3919 - val_accuracy: 0.8622\n",
      "Epoch 4/20\n",
      "1500/1500 [==============================] - 4s 3ms/step - loss: 0.3338 - accuracy: 0.8811 - val_loss: 0.3803 - val_accuracy: 0.8686\n",
      "Epoch 5/20\n",
      "1500/1500 [==============================] - 4s 3ms/step - loss: 0.3181 - accuracy: 0.8874 - val_loss: 0.3638 - val_accuracy: 0.8781\n",
      "Epoch 6/20\n",
      "1500/1500 [==============================] - 4s 3ms/step - loss: 0.3071 - accuracy: 0.8916 - val_loss: 0.3752 - val_accuracy: 0.8772\n",
      "Epoch 7/20\n",
      "1500/1500 [==============================] - 4s 3ms/step - loss: 0.2997 - accuracy: 0.8940 - val_loss: 0.3753 - val_accuracy: 0.8795\n",
      "Epoch 8/20\n",
      "1500/1500 [==============================] - 4s 2ms/step - loss: 0.2868 - accuracy: 0.9001 - val_loss: 0.3770 - val_accuracy: 0.8823\n",
      "Epoch 9/20\n",
      "1500/1500 [==============================] - 4s 2ms/step - loss: 0.2849 - accuracy: 0.9003 - val_loss: 0.3982 - val_accuracy: 0.8717\n",
      "Epoch 10/20\n",
      "1500/1500 [==============================] - 4s 3ms/step - loss: 0.2790 - accuracy: 0.9036 - val_loss: 0.4145 - val_accuracy: 0.8708\n",
      "Epoch 11/20\n",
      "1500/1500 [==============================] - 4s 3ms/step - loss: 0.2728 - accuracy: 0.9058 - val_loss: 0.4167 - val_accuracy: 0.8717\n",
      "Epoch 12/20\n",
      "1500/1500 [==============================] - 4s 3ms/step - loss: 0.2644 - accuracy: 0.9077 - val_loss: 0.4092 - val_accuracy: 0.8846\n",
      "Epoch 13/20\n",
      "1500/1500 [==============================] - 5s 3ms/step - loss: 0.2615 - accuracy: 0.9101 - val_loss: 0.4172 - val_accuracy: 0.8842\n",
      "Epoch 14/20\n",
      "1500/1500 [==============================] - 3s 2ms/step - loss: 0.2569 - accuracy: 0.9104 - val_loss: 0.4129 - val_accuracy: 0.8822\n",
      "Epoch 15/20\n",
      "1500/1500 [==============================] - 3s 2ms/step - loss: 0.2538 - accuracy: 0.9133 - val_loss: 0.4230 - val_accuracy: 0.8816\n",
      "Epoch 16/20\n",
      "1500/1500 [==============================] - 3s 2ms/step - loss: 0.2472 - accuracy: 0.9148 - val_loss: 0.4246 - val_accuracy: 0.8779\n",
      "Epoch 17/20\n",
      "1500/1500 [==============================] - 3s 2ms/step - loss: 0.2452 - accuracy: 0.9162 - val_loss: 0.4418 - val_accuracy: 0.8777\n",
      "Epoch 18/20\n",
      "1500/1500 [==============================] - 3s 2ms/step - loss: 0.2376 - accuracy: 0.9180 - val_loss: 0.4451 - val_accuracy: 0.8815\n",
      "Epoch 19/20\n",
      "1500/1500 [==============================] - 3s 2ms/step - loss: 0.2358 - accuracy: 0.9201 - val_loss: 0.5110 - val_accuracy: 0.8790\n",
      "Epoch 20/20\n",
      "1500/1500 [==============================] - 3s 2ms/step - loss: 0.2321 - accuracy: 0.9208 - val_loss: 0.4717 - val_accuracy: 0.8784\n"
     ]
    }
   ],
   "source": [
    "model = model_fn()\n",
    "model.compile(loss='sparse_categorical_crossentropy',metrics='accuracy')\n",
    "history=model.fit(train_scaled,train_target,epochs=20,validation_data=(val_scaled,val_target))"
   ]
  },
  {
   "cell_type": "code",
   "execution_count": 20,
   "metadata": {},
   "outputs": [
    {
     "data": {
      "text/plain": [
       "dict_keys(['loss', 'accuracy', 'val_loss', 'val_accuracy'])"
      ]
     },
     "execution_count": 20,
     "metadata": {},
     "output_type": "execute_result"
    }
   ],
   "source": [
    "history.history.keys()"
   ]
  },
  {
   "cell_type": "markdown",
   "metadata": {},
   "source": [
    "#### 훈련세트 & 검증세트 비교"
   ]
  },
  {
   "cell_type": "code",
   "execution_count": 21,
   "metadata": {},
   "outputs": [
    {
     "data": {
      "image/png": "[encoded data removed]",
      "text/plain": [
       "<Figure size 720x360 with 1 Axes>"
      ]
     },
     "metadata": {
      "needs_background": "light"
     },
     "output_type": "display_data"
    }
   ],
   "source": [
    "plt.figure(figsize=(10,5))\n",
    "plt.plot(history.history['loss'])\n",
    "plt.plot(history.history['val_loss'])\n",
    "plt.xlabel('epoch')\n",
    "plt.ylabel('손실값')\n",
    "plt.legend(['훈련','검증'])\n",
    "plt.title('손실곡선')\n",
    "plt.show()"
   ]
  },
  {
   "cell_type": "markdown",
   "metadata": {},
   "source": [
    "#### 드롭아웃"
   ]
  },
  {
   "cell_type": "code",
   "execution_count": 22,
   "metadata": {},
   "outputs": [
    {
     "name": "stdout",
     "output_type": "stream",
     "text": [
      "Model: \"model_fn_MakeModel\"\n",
      "_________________________________________________________________\n",
      " Layer (type)                Output Shape              Param #   \n",
      "=================================================================\n",
      " flatten_4 (Flatten)         (None, 784)               0         \n",
      "                                                                 \n",
      " hidden (Dense)              (None, 100)               78500     \n",
      "                                                                 \n",
      " dropout (Dropout)           (None, 100)               0         \n",
      "                                                                 \n",
      " output (Dense)              (None, 10)                1010      \n",
      "                                                                 \n",
      "=================================================================\n",
      "Total params: 79,510\n",
      "Trainable params: 79,510\n",
      "Non-trainable params: 0\n",
      "_________________________________________________________________\n"
     ]
    }
   ],
   "source": [
    "model = model_fn(keras.layers.Dropout(0.3))\n",
    "model.summary()"
   ]
  },
  {
   "cell_type": "code",
   "execution_count": 23,
   "metadata": {},
   "outputs": [
    {
     "name": "stdout",
     "output_type": "stream",
     "text": [
      "Epoch 1/20\n",
      "1500/1500 [==============================] - 4s 2ms/step - loss: 0.5933 - accuracy: 0.7902 - val_loss: 0.4392 - val_accuracy: 0.8430\n",
      "Epoch 2/20\n",
      "1500/1500 [==============================] - 3s 2ms/step - loss: 0.4485 - accuracy: 0.8424 - val_loss: 0.4209 - val_accuracy: 0.8547\n",
      "Epoch 3/20\n",
      "1500/1500 [==============================] - 4s 3ms/step - loss: 0.4219 - accuracy: 0.8533 - val_loss: 0.3892 - val_accuracy: 0.8633\n",
      "Epoch 4/20\n",
      "1500/1500 [==============================] - 4s 2ms/step - loss: 0.4071 - accuracy: 0.8594 - val_loss: 0.3758 - val_accuracy: 0.8702\n",
      "Epoch 5/20\n",
      "1500/1500 [==============================] - 3s 2ms/step - loss: 0.3985 - accuracy: 0.8631 - val_loss: 0.4266 - val_accuracy: 0.8613\n",
      "Epoch 6/20\n",
      "1500/1500 [==============================] - 3s 2ms/step - loss: 0.3895 - accuracy: 0.8643 - val_loss: 0.4045 - val_accuracy: 0.8692\n",
      "Epoch 7/20\n",
      "1500/1500 [==============================] - 3s 2ms/step - loss: 0.3892 - accuracy: 0.8670 - val_loss: 0.3980 - val_accuracy: 0.8743\n",
      "Epoch 8/20\n",
      "1500/1500 [==============================] - 3s 2ms/step - loss: 0.3849 - accuracy: 0.8706 - val_loss: 0.4145 - val_accuracy: 0.8682\n",
      "Epoch 9/20\n",
      "1500/1500 [==============================] - 4s 3ms/step - loss: 0.3818 - accuracy: 0.8735 - val_loss: 0.3965 - val_accuracy: 0.8773\n",
      "Epoch 10/20\n",
      "1500/1500 [==============================] - 3s 2ms/step - loss: 0.3825 - accuracy: 0.8741 - val_loss: 0.4224 - val_accuracy: 0.8688\n",
      "Epoch 11/20\n",
      "1500/1500 [==============================] - 3s 2ms/step - loss: 0.3736 - accuracy: 0.8763 - val_loss: 0.3998 - val_accuracy: 0.8783\n",
      "Epoch 12/20\n",
      "1500/1500 [==============================] - 3s 2ms/step - loss: 0.3790 - accuracy: 0.8787 - val_loss: 0.4123 - val_accuracy: 0.8783\n",
      "Epoch 13/20\n",
      "1500/1500 [==============================] - 3s 2ms/step - loss: 0.3755 - accuracy: 0.8786 - val_loss: 0.4365 - val_accuracy: 0.8786\n",
      "Epoch 14/20\n",
      "1500/1500 [==============================] - 3s 2ms/step - loss: 0.3787 - accuracy: 0.8791 - val_loss: 0.4178 - val_accuracy: 0.8777\n",
      "Epoch 15/20\n",
      "1500/1500 [==============================] - 4s 2ms/step - loss: 0.3757 - accuracy: 0.8790 - val_loss: 0.4771 - val_accuracy: 0.8709\n",
      "Epoch 16/20\n",
      "1500/1500 [==============================] - 4s 2ms/step - loss: 0.3729 - accuracy: 0.8798 - val_loss: 0.4303 - val_accuracy: 0.8781\n",
      "Epoch 17/20\n",
      "1500/1500 [==============================] - 4s 3ms/step - loss: 0.3737 - accuracy: 0.8834 - val_loss: 0.4245 - val_accuracy: 0.8816\n",
      "Epoch 18/20\n",
      "1500/1500 [==============================] - 4s 3ms/step - loss: 0.3760 - accuracy: 0.8821 - val_loss: 0.4738 - val_accuracy: 0.8767\n",
      "Epoch 19/20\n",
      "1500/1500 [==============================] - 5s 3ms/step - loss: 0.3726 - accuracy: 0.8826 - val_loss: 0.4460 - val_accuracy: 0.8766\n",
      "Epoch 20/20\n",
      "1500/1500 [==============================] - 4s 3ms/step - loss: 0.3676 - accuracy: 0.8825 - val_loss: 0.4552 - val_accuracy: 0.8797\n"
     ]
    }
   ],
   "source": [
    "model.compile(loss='sparse_categorical_crossentropy',metrics='accuracy')\n",
    "history=model.fit(train_scaled,train_target,epochs=20,validation_data=(val_scaled,val_target))"
   ]
  },
  {
   "cell_type": "code",
   "execution_count": 24,
   "metadata": {},
   "outputs": [
    {
     "data": {
      "image/png": "[encoded data removed]",
      "text/plain": [
       "<Figure size 720x360 with 1 Axes>"
      ]
     },
     "metadata": {
      "needs_background": "light"
     },
     "output_type": "display_data"
    }
   ],
   "source": [
    "plt.figure(figsize=(10,5))\n",
    "plt.plot(history.history['loss'])\n",
    "plt.plot(history.history['val_loss'])\n",
    "plt.xlabel('epoch')\n",
    "plt.ylabel('손실값')\n",
    "plt.legend(['훈련','검증'])\n",
    "plt.title('손실곡선')\n",
    "plt.show()"
   ]
  },
  {
   "cell_type": "code",
   "execution_count": 25,
   "metadata": {},
   "outputs": [
    {
     "name": "stdout",
     "output_type": "stream",
     "text": [
      "Epoch 1/20\n",
      "1500/1500 [==============================] - 3s 2ms/step - loss: 0.3673 - accuracy: 0.8726 - val_loss: 0.3898 - val_accuracy: 0.8752\n",
      "Epoch 2/20\n",
      "1500/1500 [==============================] - 3s 2ms/step - loss: 0.3537 - accuracy: 0.8762 - val_loss: 0.3958 - val_accuracy: 0.8720\n",
      "Epoch 3/20\n",
      "1500/1500 [==============================] - 4s 3ms/step - loss: 0.3336 - accuracy: 0.8790 - val_loss: 0.3902 - val_accuracy: 0.8773\n",
      "Epoch 4/20\n",
      "1500/1500 [==============================] - 4s 3ms/step - loss: 0.3286 - accuracy: 0.8808 - val_loss: 0.3758 - val_accuracy: 0.8772\n",
      "Epoch 5/20\n",
      "1500/1500 [==============================] - 4s 3ms/step - loss: 0.3152 - accuracy: 0.8844 - val_loss: 0.3660 - val_accuracy: 0.8782\n",
      "Epoch 6/20\n",
      "1500/1500 [==============================] - 5s 3ms/step - loss: 0.3115 - accuracy: 0.8855 - val_loss: 0.3825 - val_accuracy: 0.8787\n",
      "Epoch 7/20\n",
      "1500/1500 [==============================] - 5s 3ms/step - loss: 0.3047 - accuracy: 0.8876 - val_loss: 0.3599 - val_accuracy: 0.8832\n",
      "Epoch 8/20\n",
      "1500/1500 [==============================] - 4s 3ms/step - loss: 0.3059 - accuracy: 0.8876 - val_loss: 0.3622 - val_accuracy: 0.8790\n",
      "Epoch 9/20\n",
      "1500/1500 [==============================] - 4s 3ms/step - loss: 0.2943 - accuracy: 0.8919 - val_loss: 0.3675 - val_accuracy: 0.8834\n",
      "Epoch 10/20\n",
      "1500/1500 [==============================] - 4s 3ms/step - loss: 0.2914 - accuracy: 0.8922 - val_loss: 0.3663 - val_accuracy: 0.8815\n",
      "Epoch 11/20\n",
      "1500/1500 [==============================] - 5s 3ms/step - loss: 0.2848 - accuracy: 0.8938 - val_loss: 0.3564 - val_accuracy: 0.8817\n",
      "Epoch 12/20\n",
      "1500/1500 [==============================] - 4s 3ms/step - loss: 0.2878 - accuracy: 0.8934 - val_loss: 0.3675 - val_accuracy: 0.8835\n",
      "Epoch 13/20\n",
      "1500/1500 [==============================] - 4s 3ms/step - loss: 0.2770 - accuracy: 0.8954 - val_loss: 0.3610 - val_accuracy: 0.8872\n",
      "Epoch 14/20\n",
      "1500/1500 [==============================] - 4s 3ms/step - loss: 0.2805 - accuracy: 0.8958 - val_loss: 0.3661 - val_accuracy: 0.8868\n",
      "Epoch 15/20\n",
      "1500/1500 [==============================] - 3s 2ms/step - loss: 0.2761 - accuracy: 0.8955 - val_loss: 0.3628 - val_accuracy: 0.8825\n",
      "Epoch 16/20\n",
      "1500/1500 [==============================] - 3s 2ms/step - loss: 0.2698 - accuracy: 0.8989 - val_loss: 0.3602 - val_accuracy: 0.8863\n",
      "Epoch 17/20\n",
      "1500/1500 [==============================] - 3s 2ms/step - loss: 0.2673 - accuracy: 0.8993 - val_loss: 0.3641 - val_accuracy: 0.8852\n",
      "Epoch 18/20\n",
      "1500/1500 [==============================] - 4s 2ms/step - loss: 0.2658 - accuracy: 0.8990 - val_loss: 0.3599 - val_accuracy: 0.8802\n",
      "Epoch 19/20\n",
      "1500/1500 [==============================] - 3s 2ms/step - loss: 0.2654 - accuracy: 0.8981 - val_loss: 0.3697 - val_accuracy: 0.8816\n",
      "Epoch 20/20\n",
      "1500/1500 [==============================] - 3s 2ms/step - loss: 0.2594 - accuracy: 0.9019 - val_loss: 0.3782 - val_accuracy: 0.8856\n"
     ]
    }
   ],
   "source": [
    "model.compile(loss='sparse_categorical_crossentropy',metrics='accuracy',optimizer='adam')\n",
    "history=model.fit(train_scaled,train_target,epochs=20,validation_data=(val_scaled,val_target))"
   ]
  },
  {
   "cell_type": "code",
   "execution_count": 26,
   "metadata": {},
   "outputs": [
    {
     "data": {
      "image/png": "[encoded data removed]",
      "text/plain": [
       "<Figure size 720x360 with 1 Axes>"
      ]
     },
     "metadata": {
      "needs_background": "light"
     },
     "output_type": "display_data"
    }
   ],
   "source": [
    "plt.figure(figsize=(10,5))\n",
    "plt.plot(history.history['loss'])\n",
    "plt.plot(history.history['val_loss'])\n",
    "plt.xlabel('epoch')\n",
    "plt.ylabel('손실값')\n",
    "plt.legend(['훈련','검증'])\n",
    "plt.title('손실곡선')\n",
    "plt.show()"
   ]
  },
  {
   "cell_type": "markdown",
   "metadata": {},
   "source": [
    "#### 모델 저장, 로드"
   ]
  },
  {
   "cell_type": "code",
   "execution_count": 27,
   "metadata": {},
   "outputs": [
    {
     "name": "stdout",
     "output_type": "stream",
     "text": [
      "Model: \"model_fn_MakeModel\"\n",
      "_________________________________________________________________\n",
      " Layer (type)                Output Shape              Param #   \n",
      "=================================================================\n",
      " flatten_4 (Flatten)         (None, 784)               0         \n",
      "                                                                 \n",
      " hidden (Dense)              (None, 100)               78500     \n",
      "                                                                 \n",
      " dropout (Dropout)           (None, 100)               0         \n",
      "                                                                 \n",
      " output (Dense)              (None, 10)                1010      \n",
      "                                                                 \n",
      "=================================================================\n",
      "Total params: 79,510\n",
      "Trainable params: 79,510\n",
      "Non-trainable params: 0\n",
      "_________________________________________________________________\n"
     ]
    }
   ],
   "source": [
    "model.summary()"
   ]
  },
  {
   "cell_type": "code",
   "execution_count": 28,
   "metadata": {},
   "outputs": [],
   "source": [
    "model.save_weights('./data/model_weight.h5')  # 훈련된가중치만저장"
   ]
  },
  {
   "cell_type": "code",
   "execution_count": 29,
   "metadata": {},
   "outputs": [],
   "source": [
    "# 훈련된 전체 데이터 저장\n",
    "# 모델전체를저장하는걸 권장\n",
    "model.save('./data/model.h5')"
   ]
  },
  {
   "cell_type": "markdown",
   "metadata": {},
   "source": [
    "#### 가중치모델로드"
   ]
  },
  {
   "cell_type": "code",
   "execution_count": 30,
   "metadata": {},
   "outputs": [],
   "source": [
    "model=model_fn(keras.layers.Dropout(0.3))\n",
    "model.load_weights('./data/model_weight.h5')"
   ]
  },
  {
   "cell_type": "code",
   "execution_count": 31,
   "metadata": {},
   "outputs": [
    {
     "ename": "RuntimeError",
     "evalue": "You must compile your model before training/testing. Use `model.compile(optimizer, loss)`.",
     "output_type": "error",
     "traceback": [
      "\u001b[1;31m---------------------------------------------------------------------------\u001b[0m",
      "\u001b[1;31mRuntimeError\u001b[0m                              Traceback (most recent call last)",
      "\u001b[1;32mc:\\localrepository\\StudyML\\Day05\\07_3_신경망모델훈련.ipynb 셀 40\u001b[0m in \u001b[0;36m<cell line: 1>\u001b[1;34m()\u001b[0m\n\u001b[1;32m----> <a href='vscode-notebook-cell:/c%3A/localrepository/StudyML/Day05/07_3_%EC%8B%A0%EA%B2%BD%EB%A7%9D%EB%AA%A8%EB%8D%B8%ED%9B%88%EB%A0%A8.ipynb#X54sZmlsZQ%3D%3D?line=0'>1</a>\u001b[0m model\u001b[39m.\u001b[39;49mevaluate(val_scaled,val_target)\n",
      "File \u001b[1;32mc:\\Users\\admin\\AppData\\Local\\Programs\\Python\\Python310\\lib\\site-packages\\keras\\utils\\traceback_utils.py:67\u001b[0m, in \u001b[0;36mfilter_traceback.<locals>.error_handler\u001b[1;34m(*args, **kwargs)\u001b[0m\n\u001b[0;32m     65\u001b[0m \u001b[39mexcept\u001b[39;00m \u001b[39mException\u001b[39;00m \u001b[39mas\u001b[39;00m e:  \u001b[39m# pylint: disable=broad-except\u001b[39;00m\n\u001b[0;32m     66\u001b[0m   filtered_tb \u001b[39m=\u001b[39m _process_traceback_frames(e\u001b[39m.\u001b[39m__traceback__)\n\u001b[1;32m---> 67\u001b[0m   \u001b[39mraise\u001b[39;00m e\u001b[39m.\u001b[39mwith_traceback(filtered_tb) \u001b[39mfrom\u001b[39;00m \u001b[39mNone\u001b[39m\n\u001b[0;32m     68\u001b[0m \u001b[39mfinally\u001b[39;00m:\n\u001b[0;32m     69\u001b[0m   \u001b[39mdel\u001b[39;00m filtered_tb\n",
      "File \u001b[1;32mc:\\Users\\admin\\AppData\\Local\\Programs\\Python\\Python310\\lib\\site-packages\\keras\\engine\\training.py:3160\u001b[0m, in \u001b[0;36mModel._assert_compile_was_called\u001b[1;34m(self)\u001b[0m\n\u001b[0;32m   3154\u001b[0m \u001b[39mdef\u001b[39;00m \u001b[39m_assert_compile_was_called\u001b[39m(\u001b[39mself\u001b[39m):\n\u001b[0;32m   3155\u001b[0m   \u001b[39m# Checks whether `compile` has been called. If it has been called,\u001b[39;00m\n\u001b[0;32m   3156\u001b[0m   \u001b[39m# then the optimizer is set. This is different from whether the\u001b[39;00m\n\u001b[0;32m   3157\u001b[0m   \u001b[39m# model is compiled\u001b[39;00m\n\u001b[0;32m   3158\u001b[0m   \u001b[39m# (i.e. whether the model is built and its inputs/outputs are set).\u001b[39;00m\n\u001b[0;32m   3159\u001b[0m   \u001b[39mif\u001b[39;00m \u001b[39mnot\u001b[39;00m \u001b[39mself\u001b[39m\u001b[39m.\u001b[39m_is_compiled:\n\u001b[1;32m-> 3160\u001b[0m     \u001b[39mraise\u001b[39;00m \u001b[39mRuntimeError\u001b[39;00m(\u001b[39m'\u001b[39m\u001b[39mYou must compile your model before \u001b[39m\u001b[39m'\u001b[39m\n\u001b[0;32m   3161\u001b[0m                        \u001b[39m'\u001b[39m\u001b[39mtraining/testing. \u001b[39m\u001b[39m'\u001b[39m\n\u001b[0;32m   3162\u001b[0m                        \u001b[39m'\u001b[39m\u001b[39mUse `model.compile(optimizer, loss)`.\u001b[39m\u001b[39m'\u001b[39m)\n",
      "\u001b[1;31mRuntimeError\u001b[0m: You must compile your model before training/testing. Use `model.compile(optimizer, loss)`."
     ]
    }
   ],
   "source": [
    "model.evaluate(val_scaled,val_target)  # 가중치만 불렀기때문에 이건 안돼"
   ]
  },
  {
   "cell_type": "markdown",
   "metadata": {},
   "source": [
    "#### 전체모델로드"
   ]
  },
  {
   "cell_type": "code",
   "execution_count": 32,
   "metadata": {},
   "outputs": [
    {
     "name": "stdout",
     "output_type": "stream",
     "text": [
      "375/375 [==============================] - 1s 1ms/step - loss: 0.3782 - accuracy: 0.8856\n"
     ]
    },
    {
     "data": {
      "text/plain": [
       "[0.3782278597354889, 0.8855833411216736]"
      ]
     },
     "execution_count": 32,
     "metadata": {},
     "output_type": "execute_result"
    }
   ],
   "source": [
    "model=keras.models.load_model('./data/model.h5')  \n",
    "model.evaluate(val_scaled,val_target)"
   ]
  },
  {
   "cell_type": "markdown",
   "metadata": {},
   "source": [
    "- 가중치만 저장하면 모델 기능에 제약이 생기므로 훈련된 모델의 전체 데이터를 저장하자 ~ (모든 기능 수행 가능)"
   ]
  },
  {
   "cell_type": "code",
   "execution_count": 33,
   "metadata": {},
   "outputs": [
    {
     "name": "stdout",
     "output_type": "stream",
     "text": [
      "375/375 [==============================] - 0s 1ms/step\n"
     ]
    },
    {
     "data": {
      "text/plain": [
       "array([[3.9077582e-24, 0.0000000e+00, 5.7875298e-25, ..., 3.8966009e-13,\n",
       "        1.0000000e+00, 7.8902776e-16],\n",
       "       [3.9290365e-20, 0.0000000e+00, 6.2485306e-18, ..., 1.3292621e-19,\n",
       "        1.0000000e+00, 3.4892142e-21],\n",
       "       [3.3341603e-27, 1.6748060e-29, 0.0000000e+00, ..., 9.9999940e-01,\n",
       "        1.8226665e-20, 2.6197136e-16],\n",
       "       ...,\n",
       "       [7.7069530e-13, 0.0000000e+00, 7.6793044e-14, ..., 1.0962456e-17,\n",
       "        1.0000000e+00, 6.6980676e-19],\n",
       "       [1.4698780e-19, 8.1930833e-38, 1.3693468e-17, ..., 3.7902995e-19,\n",
       "        1.0000000e+00, 2.6725295e-21],\n",
       "       [1.7857277e-01, 9.4260611e-16, 7.1910819e-07, ..., 2.0656487e-05,\n",
       "        3.2550284e-07, 2.8147383e-02]], dtype=float32)"
      ]
     },
     "execution_count": 33,
     "metadata": {},
     "output_type": "execute_result"
    }
   ],
   "source": [
    "model.predict(val_scaled)"
   ]
  },
  {
   "cell_type": "code",
   "execution_count": 34,
   "metadata": {},
   "outputs": [
    {
     "name": "stdout",
     "output_type": "stream",
     "text": [
      "375/375 [==============================] - 0s 975us/step\n"
     ]
    },
    {
     "data": {
      "text/plain": [
       "0.8855833333333333"
      ]
     },
     "execution_count": 34,
     "metadata": {},
     "output_type": "execute_result"
    }
   ],
   "source": [
    "### 예측결과\n",
    "\n",
    "val_labels = np.argmax(model.predict(val_scaled),axis=-1)\n",
    "np.mean(val_labels==val_target)\n"
   ]
  },
  {
   "cell_type": "code",
   "execution_count": 35,
   "metadata": {},
   "outputs": [
    {
     "data": {
      "text/plain": [
       "(12000,)"
      ]
     },
     "execution_count": 35,
     "metadata": {},
     "output_type": "execute_result"
    }
   ],
   "source": [
    "val_labels.shape"
   ]
  },
  {
   "cell_type": "code",
   "execution_count": 36,
   "metadata": {},
   "outputs": [
    {
     "data": {
      "text/plain": [
       "array([8, 8, 7, ..., 8, 8, 3], dtype=int64)"
      ]
     },
     "execution_count": 36,
     "metadata": {},
     "output_type": "execute_result"
    }
   ],
   "source": [
    "val_labels"
   ]
  },
  {
   "cell_type": "markdown",
   "metadata": {},
   "source": [
    "#### callback"
   ]
  },
  {
   "cell_type": "code",
   "execution_count": 37,
   "metadata": {},
   "outputs": [
    {
     "name": "stdout",
     "output_type": "stream",
     "text": [
      "Epoch 1/20\n",
      "1500/1500 [==============================] - 3s 2ms/step - loss: 0.5988 - accuracy: 0.7889 - val_loss: 0.4311 - val_accuracy: 0.8429\n",
      "Epoch 2/20\n",
      "1500/1500 [==============================] - 3s 2ms/step - loss: 0.4421 - accuracy: 0.8415 - val_loss: 0.3881 - val_accuracy: 0.8586\n",
      "Epoch 3/20\n",
      "1500/1500 [==============================] - 2s 2ms/step - loss: 0.4078 - accuracy: 0.8519 - val_loss: 0.3695 - val_accuracy: 0.8677\n",
      "Epoch 4/20\n",
      "1500/1500 [==============================] - 2s 2ms/step - loss: 0.3846 - accuracy: 0.8613 - val_loss: 0.3587 - val_accuracy: 0.8688\n",
      "Epoch 5/20\n",
      "1500/1500 [==============================] - 3s 2ms/step - loss: 0.3687 - accuracy: 0.8649 - val_loss: 0.3395 - val_accuracy: 0.8766\n",
      "Epoch 6/20\n",
      "1500/1500 [==============================] - 4s 3ms/step - loss: 0.3536 - accuracy: 0.8703 - val_loss: 0.3616 - val_accuracy: 0.8668\n",
      "Epoch 7/20\n",
      "1500/1500 [==============================] - 4s 3ms/step - loss: 0.3458 - accuracy: 0.8737 - val_loss: 0.3295 - val_accuracy: 0.8822\n",
      "Epoch 8/20\n",
      "1500/1500 [==============================] - 3s 2ms/step - loss: 0.3371 - accuracy: 0.8759 - val_loss: 0.3280 - val_accuracy: 0.8798\n",
      "Epoch 9/20\n",
      "1500/1500 [==============================] - 3s 2ms/step - loss: 0.3260 - accuracy: 0.8788 - val_loss: 0.3257 - val_accuracy: 0.8823\n",
      "Epoch 10/20\n",
      "1500/1500 [==============================] - 3s 2ms/step - loss: 0.3221 - accuracy: 0.8806 - val_loss: 0.3337 - val_accuracy: 0.8802\n",
      "Epoch 11/20\n",
      "1500/1500 [==============================] - 3s 2ms/step - loss: 0.3159 - accuracy: 0.8830 - val_loss: 0.3253 - val_accuracy: 0.8829\n",
      "Epoch 12/20\n",
      "1500/1500 [==============================] - 3s 2ms/step - loss: 0.3095 - accuracy: 0.8850 - val_loss: 0.3441 - val_accuracy: 0.8764\n",
      "Epoch 13/20\n",
      "1500/1500 [==============================] - 3s 2ms/step - loss: 0.3039 - accuracy: 0.8869 - val_loss: 0.3238 - val_accuracy: 0.8853\n",
      "Epoch 14/20\n",
      "1500/1500 [==============================] - 3s 2ms/step - loss: 0.2967 - accuracy: 0.8901 - val_loss: 0.3244 - val_accuracy: 0.8825\n",
      "Epoch 15/20\n",
      "1500/1500 [==============================] - 3s 2ms/step - loss: 0.2943 - accuracy: 0.8890 - val_loss: 0.3199 - val_accuracy: 0.8857\n",
      "Epoch 16/20\n",
      "1500/1500 [==============================] - 3s 2ms/step - loss: 0.2922 - accuracy: 0.8918 - val_loss: 0.3264 - val_accuracy: 0.8829\n",
      "Epoch 17/20\n",
      "1500/1500 [==============================] - 3s 2ms/step - loss: 0.2871 - accuracy: 0.8926 - val_loss: 0.3298 - val_accuracy: 0.8847\n",
      "Epoch 18/20\n",
      "1500/1500 [==============================] - 3s 2ms/step - loss: 0.2844 - accuracy: 0.8926 - val_loss: 0.3238 - val_accuracy: 0.8867\n",
      "Epoch 19/20\n",
      "1500/1500 [==============================] - 3s 2ms/step - loss: 0.2803 - accuracy: 0.8942 - val_loss: 0.3278 - val_accuracy: 0.8866\n",
      "Epoch 20/20\n",
      "1500/1500 [==============================] - 3s 2ms/step - loss: 0.2770 - accuracy: 0.8966 - val_loss: 0.3370 - val_accuracy: 0.8824\n"
     ]
    },
    {
     "data": {
      "text/plain": [
       "<keras.callbacks.History at 0x18b7fb79900>"
      ]
     },
     "execution_count": 37,
     "metadata": {},
     "output_type": "execute_result"
    }
   ],
   "source": [
    "model=model_fn(keras.layers.Dropout(0.3))\n",
    "model.compile(loss='sparse_categorical_crossentropy',metrics='accuracy',optimizer='adam')\n",
    "# 베스트 모델을 저장할 콜백\n",
    "checkpoint_cb = keras.callbacks.ModelCheckpoint('./data/best_model.h5')\n",
    "model.fit(train_scaled,train_target,epochs=20, verbose=1, validation_data=(val_scaled,val_target),callbacks=[checkpoint_cb])"
   ]
  },
  {
   "cell_type": "code",
   "execution_count": 38,
   "metadata": {},
   "outputs": [
    {
     "name": "stdout",
     "output_type": "stream",
     "text": [
      "375/375 [==============================] - 0s 1ms/step - loss: 0.3370 - accuracy: 0.8824\n"
     ]
    },
    {
     "data": {
      "text/plain": [
       "[0.33699876070022583, 0.8824166655540466]"
      ]
     },
     "execution_count": 38,
     "metadata": {},
     "output_type": "execute_result"
    }
   ],
   "source": [
    "# 체크포인트 확인\n",
    "\n",
    "model = keras.models.load_model('./data/best_model.h5')\n",
    "model.evaluate(val_scaled,val_target)"
   ]
  },
  {
   "cell_type": "markdown",
   "metadata": {},
   "source": [
    "#### 조기종료"
   ]
  },
  {
   "cell_type": "code",
   "execution_count": 39,
   "metadata": {},
   "outputs": [
    {
     "name": "stdout",
     "output_type": "stream",
     "text": [
      "Epoch 1/20\n",
      "1499/1500 [============================>.] - ETA: 0s - loss: 0.6005 - accuracy: 0.7891\n",
      "Epoch 1: val_loss improved from inf to 0.45114, saving model to ./data\\best_model2.h5\n",
      "1500/1500 [==============================] - 3s 2ms/step - loss: 0.6003 - accuracy: 0.7892 - val_loss: 0.4511 - val_accuracy: 0.8379\n",
      "Epoch 2/20\n",
      "1499/1500 [============================>.] - ETA: 0s - loss: 0.4429 - accuracy: 0.8391\n",
      "Epoch 2: val_loss improved from 0.45114 to 0.38616, saving model to ./data\\best_model2.h5\n",
      "1500/1500 [==============================] - 2s 2ms/step - loss: 0.4428 - accuracy: 0.8392 - val_loss: 0.3862 - val_accuracy: 0.8574\n",
      "Epoch 3/20\n",
      "1487/1500 [============================>.] - ETA: 0s - loss: 0.4085 - accuracy: 0.8511\n",
      "Epoch 3: val_loss improved from 0.38616 to 0.36546, saving model to ./data\\best_model2.h5\n",
      "1500/1500 [==============================] - 3s 2ms/step - loss: 0.4086 - accuracy: 0.8511 - val_loss: 0.3655 - val_accuracy: 0.8645\n",
      "Epoch 4/20\n",
      "1488/1500 [============================>.] - ETA: 0s - loss: 0.3861 - accuracy: 0.8591\n",
      "Epoch 4: val_loss improved from 0.36546 to 0.35432, saving model to ./data\\best_model2.h5\n",
      "1500/1500 [==============================] - 3s 2ms/step - loss: 0.3863 - accuracy: 0.8591 - val_loss: 0.3543 - val_accuracy: 0.8696\n",
      "Epoch 5/20\n",
      "1479/1500 [============================>.] - ETA: 0s - loss: 0.3681 - accuracy: 0.8654\n",
      "Epoch 5: val_loss improved from 0.35432 to 0.35138, saving model to ./data\\best_model2.h5\n",
      "1500/1500 [==============================] - 3s 2ms/step - loss: 0.3685 - accuracy: 0.8654 - val_loss: 0.3514 - val_accuracy: 0.8662\n",
      "Epoch 6/20\n",
      "1492/1500 [============================>.] - ETA: 0s - loss: 0.3543 - accuracy: 0.8691\n",
      "Epoch 6: val_loss did not improve from 0.35138\n",
      "1500/1500 [==============================] - 3s 2ms/step - loss: 0.3545 - accuracy: 0.8690 - val_loss: 0.3623 - val_accuracy: 0.8685\n",
      "Epoch 7/20\n",
      "1479/1500 [============================>.] - ETA: 0s - loss: 0.3487 - accuracy: 0.8716\n",
      "Epoch 7: val_loss improved from 0.35138 to 0.34294, saving model to ./data\\best_model2.h5\n",
      "1500/1500 [==============================] - 3s 2ms/step - loss: 0.3485 - accuracy: 0.8719 - val_loss: 0.3429 - val_accuracy: 0.8735\n",
      "Epoch 8/20\n",
      "1475/1500 [============================>.] - ETA: 0s - loss: 0.3385 - accuracy: 0.8739\n",
      "Epoch 8: val_loss improved from 0.34294 to 0.33002, saving model to ./data\\best_model2.h5\n",
      "1500/1500 [==============================] - 3s 2ms/step - loss: 0.3379 - accuracy: 0.8742 - val_loss: 0.3300 - val_accuracy: 0.8809\n",
      "Epoch 9/20\n",
      "1488/1500 [============================>.] - ETA: 0s - loss: 0.3295 - accuracy: 0.8792\n",
      "Epoch 9: val_loss did not improve from 0.33002\n",
      "1500/1500 [==============================] - 3s 2ms/step - loss: 0.3295 - accuracy: 0.8792 - val_loss: 0.3317 - val_accuracy: 0.8768\n",
      "Epoch 10/20\n",
      "1480/1500 [============================>.] - ETA: 0s - loss: 0.3231 - accuracy: 0.8818\n",
      "Epoch 10: val_loss did not improve from 0.33002\n",
      "1500/1500 [==============================] - 3s 2ms/step - loss: 0.3237 - accuracy: 0.8815 - val_loss: 0.3606 - val_accuracy: 0.8658\n"
     ]
    }
   ],
   "source": [
    "model=model_fn(keras.layers.Dropout(0.3))\n",
    "model.compile(loss='sparse_categorical_crossentropy',metrics='accuracy',optimizer='adam')\n",
    "# 베스트 모델을 저장할 콜백\n",
    "# save_best_only=True 해줘야 가장 좋은 모델이 저장된다. 과정 보고싶으면 verbose=1 !\n",
    "checkpoint_cb = keras.callbacks.ModelCheckpoint('./data/best_model2.h5',save_best_only=True,verbose=1)\n",
    "early_stopping_cb = keras.callbacks.EarlyStopping(patience=2, restore_best_weights=True)\n",
    "history=model.fit(train_scaled,train_target,epochs=20, verbose=1, validation_data=(val_scaled,val_target),callbacks=[checkpoint_cb,early_stopping_cb])\n",
    "# history=model.fit(train_scaled,train_target,epochs=20,verbose=1,validation_data=(val_scaled,val_target),callbacks=[checkpoint_cb,early_stopping_cb])"
   ]
  },
  {
   "cell_type": "code",
   "execution_count": 40,
   "metadata": {},
   "outputs": [
    {
     "data": {
      "image/png": "[encoded data removed]",
      "text/plain": [
       "<Figure size 720x360 with 1 Axes>"
      ]
     },
     "metadata": {
      "needs_background": "light"
     },
     "output_type": "display_data"
    }
   ],
   "source": [
    "plt.figure(figsize=(10,5))\n",
    "plt.plot(history.history['loss'])\n",
    "plt.plot(history.history['val_loss'])\n",
    "plt.xlabel('epoch')\n",
    "plt.ylabel('손실값')\n",
    "plt.legend(['훈련','검증'])\n",
    "plt.title('손실곡선')\n",
    "plt.show()"
   ]
  },
  {
   "cell_type": "code",
   "execution_count": 41,
   "metadata": {},
   "outputs": [
    {
     "data": {
      "text/plain": [
       "9"
      ]
     },
     "execution_count": 41,
     "metadata": {},
     "output_type": "execute_result"
    }
   ],
   "source": [
    "# 언제 종료했는지 확인\n",
    "early_stopping_cb.stopped_epoch #9에서 멈췄어 (dropout)"
   ]
  },
  {
   "cell_type": "code",
   "execution_count": 42,
   "metadata": {},
   "outputs": [
    {
     "name": "stdout",
     "output_type": "stream",
     "text": [
      "375/375 [==============================] - 0s 1ms/step - loss: 0.3300 - accuracy: 0.8809\n"
     ]
    },
    {
     "data": {
      "text/plain": [
       "[0.3300167918205261, 0.8809166550636292]"
      ]
     },
     "execution_count": 42,
     "metadata": {},
     "output_type": "execute_result"
    }
   ],
   "source": [
    "model.evaluate(val_scaled, val_target) #8번째 에포크값으로 evaluate"
   ]
  },
  {
   "cell_type": "code",
   "execution_count": 43,
   "metadata": {},
   "outputs": [],
   "source": [
    "model.save('./data/best_model_epoch9.h5')"
   ]
  },
  {
   "cell_type": "markdown",
   "metadata": {},
   "source": [
    "#### 조기종료된 모델 저장값 / 체크포인트로 저장된 모델 저장 값 비교"
   ]
  },
  {
   "cell_type": "code",
   "execution_count": 44,
   "metadata": {},
   "outputs": [
    {
     "name": "stdout",
     "output_type": "stream",
     "text": [
      "375/375 [==============================] - 0s 1ms/step - loss: 0.3300 - accuracy: 0.8809\n"
     ]
    },
    {
     "data": {
      "text/plain": [
       "[0.3300167918205261, 0.8809166550636292]"
      ]
     },
     "execution_count": 44,
     "metadata": {},
     "output_type": "execute_result"
    }
   ],
   "source": [
    "model_cp=keras.models.load_model('./data/best_model2.h5')\n",
    "model_cp.evaluate(val_scaled,val_target)"
   ]
  },
  {
   "cell_type": "code",
   "execution_count": 45,
   "metadata": {},
   "outputs": [
    {
     "name": "stdout",
     "output_type": "stream",
     "text": [
      "375/375 [==============================] - 0s 1ms/step\n"
     ]
    },
    {
     "data": {
      "text/plain": [
       "0.8809166666666667"
      ]
     },
     "execution_count": 45,
     "metadata": {},
     "output_type": "execute_result"
    }
   ],
   "source": [
    "### 예측결과\n",
    "\n",
    "val_labels = np.argmax(model.predict(val_scaled),axis=-1)\n",
    "np.mean(val_labels==val_target)"
   ]
  },
  {
   "cell_type": "code",
   "execution_count": 46,
   "metadata": {},
   "outputs": [
    {
     "data": {
      "text/plain": [
       "array([8, 8, 7, 4, 8, 4, 1, 0, 4, 5], dtype=int64)"
      ]
     },
     "execution_count": 46,
     "metadata": {},
     "output_type": "execute_result"
    }
   ],
   "source": [
    "val_labels[:10]"
   ]
  },
  {
   "cell_type": "code",
   "execution_count": null,
   "metadata": {},
   "outputs": [],
   "source": []
  }
 ],
 "metadata": {
  "kernelspec": {
   "display_name": "Python 3.10.5 64-bit",
   "language": "python",
   "name": "python3"
  },
  "language_info": {
   "codemirror_mode": {
    "name": "ipython",
    "version": 3
   },
   "file_extension": ".py",
   "mimetype": "text/x-python",
   "name": "python",
   "nbconvert_exporter": "python",
   "pygments_lexer": "ipython3",
   "version": "3.10.5"
  },
  "orig_nbformat": 4,
  "vscode": {
   "interpreter": {
    "hash": "beedbe2faf2f7048d727558d0bc3221e7eba2a0b921cac4d4771b2feb8f74b30"
   }
  }
 },
 "nbformat": 4,
 "nbformat_minor": 2
}
